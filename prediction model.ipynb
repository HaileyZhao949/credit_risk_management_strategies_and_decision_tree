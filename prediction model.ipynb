{
 "cells": [
  {
   "cell_type": "code",
   "execution_count": 1,
   "id": "33d6fe4c",
   "metadata": {},
   "outputs": [],
   "source": [
    "import numpy as np\n",
    "import pandas as pd\n",
    "from sklearn import metrics\n",
    "from sklearn.model_selection import train_test_split\n",
    "from sklearn import tree\n",
    "import pydot"
   ]
  },
  {
   "cell_type": "code",
   "execution_count": 2,
   "id": "c96ac475",
   "metadata": {
    "scrolled": false
   },
   "outputs": [
    {
     "data": {
      "text/html": [
       "<div>\n",
       "<style scoped>\n",
       "    .dataframe tbody tr th:only-of-type {\n",
       "        vertical-align: middle;\n",
       "    }\n",
       "\n",
       "    .dataframe tbody tr th {\n",
       "        vertical-align: top;\n",
       "    }\n",
       "\n",
       "    .dataframe thead th {\n",
       "        text-align: right;\n",
       "    }\n",
       "</style>\n",
       "<table border=\"1\" class=\"dataframe\">\n",
       "  <thead>\n",
       "    <tr style=\"text-align: right;\">\n",
       "      <th></th>\n",
       "      <th>SignalDateTime</th>\n",
       "      <th>isApplication</th>\n",
       "      <th>isApproval</th>\n",
       "      <th>isAcceptance</th>\n",
       "      <th>isCompletion</th>\n",
       "      <th>FICOScore</th>\n",
       "      <th>RequestedAmount</th>\n",
       "      <th>InquiryNum</th>\n",
       "      <th>BaseRatingBin</th>\n",
       "      <th>channelBin</th>\n",
       "    </tr>\n",
       "  </thead>\n",
       "  <tbody>\n",
       "    <tr>\n",
       "      <th>0</th>\n",
       "      <td>2020-03-01 00:08:00</td>\n",
       "      <td>1</td>\n",
       "      <td>1</td>\n",
       "      <td>0</td>\n",
       "      <td>0</td>\n",
       "      <td>714.0</td>\n",
       "      <td>11000.0</td>\n",
       "      <td>0.0</td>\n",
       "      <td>6.0</td>\n",
       "      <td>1</td>\n",
       "    </tr>\n",
       "    <tr>\n",
       "      <th>1</th>\n",
       "      <td>2020-03-01 00:19:00</td>\n",
       "      <td>1</td>\n",
       "      <td>0</td>\n",
       "      <td>0</td>\n",
       "      <td>0</td>\n",
       "      <td>665.0</td>\n",
       "      <td>16000.0</td>\n",
       "      <td>0.0</td>\n",
       "      <td>7.0</td>\n",
       "      <td>1</td>\n",
       "    </tr>\n",
       "    <tr>\n",
       "      <th>2</th>\n",
       "      <td>2020-03-01 00:19:00</td>\n",
       "      <td>1</td>\n",
       "      <td>0</td>\n",
       "      <td>0</td>\n",
       "      <td>0</td>\n",
       "      <td>553.0</td>\n",
       "      <td>3000.0</td>\n",
       "      <td>1.0</td>\n",
       "      <td>8.0</td>\n",
       "      <td>8</td>\n",
       "    </tr>\n",
       "    <tr>\n",
       "      <th>3</th>\n",
       "      <td>2020-03-01 00:31:00</td>\n",
       "      <td>1</td>\n",
       "      <td>1</td>\n",
       "      <td>0</td>\n",
       "      <td>0</td>\n",
       "      <td>738.0</td>\n",
       "      <td>8000.0</td>\n",
       "      <td>0.0</td>\n",
       "      <td>3.0</td>\n",
       "      <td>1</td>\n",
       "    </tr>\n",
       "    <tr>\n",
       "      <th>4</th>\n",
       "      <td>2020-03-01 00:42:00</td>\n",
       "      <td>1</td>\n",
       "      <td>1</td>\n",
       "      <td>0</td>\n",
       "      <td>0</td>\n",
       "      <td>710.0</td>\n",
       "      <td>13500.0</td>\n",
       "      <td>-4.0</td>\n",
       "      <td>4.0</td>\n",
       "      <td>1</td>\n",
       "    </tr>\n",
       "    <tr>\n",
       "      <th>...</th>\n",
       "      <td>...</td>\n",
       "      <td>...</td>\n",
       "      <td>...</td>\n",
       "      <td>...</td>\n",
       "      <td>...</td>\n",
       "      <td>...</td>\n",
       "      <td>...</td>\n",
       "      <td>...</td>\n",
       "      <td>...</td>\n",
       "      <td>...</td>\n",
       "    </tr>\n",
       "    <tr>\n",
       "      <th>79183</th>\n",
       "      <td>2020-05-30 23:23:00</td>\n",
       "      <td>1</td>\n",
       "      <td>0</td>\n",
       "      <td>0</td>\n",
       "      <td>0</td>\n",
       "      <td>NaN</td>\n",
       "      <td>NaN</td>\n",
       "      <td>NaN</td>\n",
       "      <td>NaN</td>\n",
       "      <td>1</td>\n",
       "    </tr>\n",
       "    <tr>\n",
       "      <th>79184</th>\n",
       "      <td>2020-05-30 23:44:00</td>\n",
       "      <td>1</td>\n",
       "      <td>0</td>\n",
       "      <td>0</td>\n",
       "      <td>0</td>\n",
       "      <td>696.0</td>\n",
       "      <td>3000.0</td>\n",
       "      <td>8.0</td>\n",
       "      <td>8.0</td>\n",
       "      <td>8</td>\n",
       "    </tr>\n",
       "    <tr>\n",
       "      <th>79185</th>\n",
       "      <td>2020-05-30 23:45:00</td>\n",
       "      <td>1</td>\n",
       "      <td>0</td>\n",
       "      <td>0</td>\n",
       "      <td>0</td>\n",
       "      <td>701.0</td>\n",
       "      <td>28000.0</td>\n",
       "      <td>-4.0</td>\n",
       "      <td>8.0</td>\n",
       "      <td>1</td>\n",
       "    </tr>\n",
       "    <tr>\n",
       "      <th>79186</th>\n",
       "      <td>2020-05-30 23:47:00</td>\n",
       "      <td>1</td>\n",
       "      <td>1</td>\n",
       "      <td>0</td>\n",
       "      <td>0</td>\n",
       "      <td>685.0</td>\n",
       "      <td>13200.0</td>\n",
       "      <td>0.0</td>\n",
       "      <td>4.0</td>\n",
       "      <td>1</td>\n",
       "    </tr>\n",
       "    <tr>\n",
       "      <th>79187</th>\n",
       "      <td>2020-05-30 23:53:00</td>\n",
       "      <td>1</td>\n",
       "      <td>0</td>\n",
       "      <td>0</td>\n",
       "      <td>0</td>\n",
       "      <td>668.0</td>\n",
       "      <td>10000.0</td>\n",
       "      <td>0.0</td>\n",
       "      <td>8.0</td>\n",
       "      <td>1</td>\n",
       "    </tr>\n",
       "  </tbody>\n",
       "</table>\n",
       "<p>79188 rows × 10 columns</p>\n",
       "</div>"
      ],
      "text/plain": [
       "            SignalDateTime  isApplication  isApproval  isAcceptance  \\\n",
       "0      2020-03-01 00:08:00              1           1             0   \n",
       "1      2020-03-01 00:19:00              1           0             0   \n",
       "2      2020-03-01 00:19:00              1           0             0   \n",
       "3      2020-03-01 00:31:00              1           1             0   \n",
       "4      2020-03-01 00:42:00              1           1             0   \n",
       "...                    ...            ...         ...           ...   \n",
       "79183  2020-05-30 23:23:00              1           0             0   \n",
       "79184  2020-05-30 23:44:00              1           0             0   \n",
       "79185  2020-05-30 23:45:00              1           0             0   \n",
       "79186  2020-05-30 23:47:00              1           1             0   \n",
       "79187  2020-05-30 23:53:00              1           0             0   \n",
       "\n",
       "       isCompletion  FICOScore  RequestedAmount  InquiryNum  BaseRatingBin  \\\n",
       "0                 0      714.0          11000.0         0.0            6.0   \n",
       "1                 0      665.0          16000.0         0.0            7.0   \n",
       "2                 0      553.0           3000.0         1.0            8.0   \n",
       "3                 0      738.0           8000.0         0.0            3.0   \n",
       "4                 0      710.0          13500.0        -4.0            4.0   \n",
       "...             ...        ...              ...         ...            ...   \n",
       "79183             0        NaN              NaN         NaN            NaN   \n",
       "79184             0      696.0           3000.0         8.0            8.0   \n",
       "79185             0      701.0          28000.0        -4.0            8.0   \n",
       "79186             0      685.0          13200.0         0.0            4.0   \n",
       "79187             0      668.0          10000.0         0.0            8.0   \n",
       "\n",
       "       channelBin  \n",
       "0               1  \n",
       "1               1  \n",
       "2               8  \n",
       "3               1  \n",
       "4               1  \n",
       "...           ...  \n",
       "79183           1  \n",
       "79184           8  \n",
       "79185           1  \n",
       "79186           1  \n",
       "79187           1  \n",
       "\n",
       "[79188 rows x 10 columns]"
      ]
     },
     "execution_count": 2,
     "metadata": {},
     "output_type": "execute_result"
    }
   ],
   "source": [
    "data=pd.read_csv('Credit_Manager_Take_Home_Data_Clean.csv')\n",
    "data"
   ]
  },
  {
   "cell_type": "markdown",
   "id": "63280a64",
   "metadata": {},
   "source": [
    "# Part 1: Exploratory Data Analysis"
   ]
  },
  {
   "cell_type": "markdown",
   "id": "55f8e62b",
   "metadata": {},
   "source": [
    "Check the correlations between isApproval and numeric variables like FICOScore, RequestedAmount and InquiryNum"
   ]
  },
  {
   "cell_type": "code",
   "execution_count": 3,
   "id": "ac082b68",
   "metadata": {},
   "outputs": [
    {
     "data": {
      "text/html": [
       "<div>\n",
       "<style scoped>\n",
       "    .dataframe tbody tr th:only-of-type {\n",
       "        vertical-align: middle;\n",
       "    }\n",
       "\n",
       "    .dataframe tbody tr th {\n",
       "        vertical-align: top;\n",
       "    }\n",
       "\n",
       "    .dataframe thead th {\n",
       "        text-align: right;\n",
       "    }\n",
       "</style>\n",
       "<table border=\"1\" class=\"dataframe\">\n",
       "  <thead>\n",
       "    <tr style=\"text-align: right;\">\n",
       "      <th></th>\n",
       "      <th>isApproval</th>\n",
       "      <th>FICOScore</th>\n",
       "      <th>RequestedAmount</th>\n",
       "      <th>InquiryNum</th>\n",
       "    </tr>\n",
       "  </thead>\n",
       "  <tbody>\n",
       "    <tr>\n",
       "      <th>isApproval</th>\n",
       "      <td>1.000000</td>\n",
       "      <td>0.557622</td>\n",
       "      <td>0.140049</td>\n",
       "      <td>-0.298037</td>\n",
       "    </tr>\n",
       "    <tr>\n",
       "      <th>FICOScore</th>\n",
       "      <td>0.557622</td>\n",
       "      <td>1.000000</td>\n",
       "      <td>0.262304</td>\n",
       "      <td>-0.232416</td>\n",
       "    </tr>\n",
       "    <tr>\n",
       "      <th>RequestedAmount</th>\n",
       "      <td>0.140049</td>\n",
       "      <td>0.262304</td>\n",
       "      <td>1.000000</td>\n",
       "      <td>-0.097706</td>\n",
       "    </tr>\n",
       "    <tr>\n",
       "      <th>InquiryNum</th>\n",
       "      <td>-0.298037</td>\n",
       "      <td>-0.232416</td>\n",
       "      <td>-0.097706</td>\n",
       "      <td>1.000000</td>\n",
       "    </tr>\n",
       "  </tbody>\n",
       "</table>\n",
       "</div>"
      ],
      "text/plain": [
       "                 isApproval  FICOScore  RequestedAmount  InquiryNum\n",
       "isApproval         1.000000   0.557622         0.140049   -0.298037\n",
       "FICOScore          0.557622   1.000000         0.262304   -0.232416\n",
       "RequestedAmount    0.140049   0.262304         1.000000   -0.097706\n",
       "InquiryNum        -0.298037  -0.232416        -0.097706    1.000000"
      ]
     },
     "execution_count": 3,
     "metadata": {},
     "output_type": "execute_result"
    }
   ],
   "source": [
    "data[['isApproval','FICOScore','RequestedAmount','InquiryNum']][data['InquiryNum']>=0].corr()"
   ]
  },
  {
   "cell_type": "markdown",
   "id": "019e4f06",
   "metadata": {},
   "source": [
    "We can see FICO is the most related to Approval, while InquiryNum is negatively related to Approval and other numeric variables"
   ]
  },
  {
   "cell_type": "markdown",
   "id": "4bcab6a5",
   "metadata": {},
   "source": [
    "Run distributions for Approval 0 and 1, respectively"
   ]
  },
  {
   "cell_type": "code",
   "execution_count": 4,
   "id": "8078e6b6",
   "metadata": {},
   "outputs": [
    {
     "data": {
      "text/plain": [
       "<AxesSubplot:ylabel='Frequency'>"
      ]
     },
     "execution_count": 4,
     "metadata": {},
     "output_type": "execute_result"
    },
    {
     "data": {
      "image/png": "[encoded data removed]",
      "text/plain": [
       "<Figure size 432x288 with 1 Axes>"
      ]
     },
     "metadata": {
      "needs_background": "light"
     },
     "output_type": "display_data"
    }
   ],
   "source": [
    "data[['FICOScore']][data['isApproval']==0].plot.hist()"
   ]
  },
  {
   "cell_type": "code",
   "execution_count": 5,
   "id": "839d3c33",
   "metadata": {},
   "outputs": [
    {
     "data": {
      "text/plain": [
       "<AxesSubplot:ylabel='Frequency'>"
      ]
     },
     "execution_count": 5,
     "metadata": {},
     "output_type": "execute_result"
    },
    {
     "data": {
      "image/png": "[encoded data removed]",
      "text/plain": [
       "<Figure size 432x288 with 1 Axes>"
      ]
     },
     "metadata": {
      "needs_background": "light"
     },
     "output_type": "display_data"
    }
   ],
   "source": [
    "data[['FICOScore']][data['isApproval']==1].plot.hist()"
   ]
  },
  {
   "cell_type": "code",
   "execution_count": 6,
   "id": "37751955",
   "metadata": {},
   "outputs": [
    {
     "data": {
      "text/plain": [
       "<AxesSubplot:ylabel='Frequency'>"
      ]
     },
     "execution_count": 6,
     "metadata": {},
     "output_type": "execute_result"
    },
    {
     "data": {
      "image/png": "[encoded data removed]",
      "text/plain": [
       "<Figure size 432x288 with 1 Axes>"
      ]
     },
     "metadata": {
      "needs_background": "light"
     },
     "output_type": "display_data"
    }
   ],
   "source": [
    "data[['RequestedAmount']][data['isApproval']==0].plot.hist()"
   ]
  },
  {
   "cell_type": "code",
   "execution_count": 7,
   "id": "24e8d5cb",
   "metadata": {},
   "outputs": [
    {
     "data": {
      "text/plain": [
       "<AxesSubplot:ylabel='Frequency'>"
      ]
     },
     "execution_count": 7,
     "metadata": {},
     "output_type": "execute_result"
    },
    {
     "data": {
      "image/png": "[encoded data removed]",
      "text/plain": [
       "<Figure size 432x288 with 1 Axes>"
      ]
     },
     "metadata": {
      "needs_background": "light"
     },
     "output_type": "display_data"
    }
   ],
   "source": [
    "data[['RequestedAmount']][data['isApproval']==1].plot.hist()"
   ]
  },
  {
   "cell_type": "code",
   "execution_count": 8,
   "id": "d7803f17",
   "metadata": {},
   "outputs": [
    {
     "data": {
      "text/plain": [
       "<AxesSubplot:ylabel='Frequency'>"
      ]
     },
     "execution_count": 8,
     "metadata": {},
     "output_type": "execute_result"
    },
    {
     "data": {
      "image/png": "[encoded data removed]",
      "text/plain": [
       "<Figure size 432x288 with 1 Axes>"
      ]
     },
     "metadata": {
      "needs_background": "light"
     },
     "output_type": "display_data"
    }
   ],
   "source": [
    "data[['InquiryNum']][data['isApproval']==0].plot.hist()"
   ]
  },
  {
   "cell_type": "code",
   "execution_count": 9,
   "id": "bc93eb1b",
   "metadata": {},
   "outputs": [
    {
     "data": {
      "text/plain": [
       "<AxesSubplot:ylabel='Frequency'>"
      ]
     },
     "execution_count": 9,
     "metadata": {},
     "output_type": "execute_result"
    },
    {
     "data": {
      "image/png": "[encoded data removed]",
      "text/plain": [
       "<Figure size 432x288 with 1 Axes>"
      ]
     },
     "metadata": {
      "needs_background": "light"
     },
     "output_type": "display_data"
    }
   ],
   "source": [
    "data[['InquiryNum']][data['isApproval']==1].plot.hist()"
   ]
  },
  {
   "cell_type": "code",
   "execution_count": 10,
   "id": "edcd87d3",
   "metadata": {},
   "outputs": [
    {
     "data": {
      "text/plain": [
       "<AxesSubplot:ylabel='Frequency'>"
      ]
     },
     "execution_count": 10,
     "metadata": {},
     "output_type": "execute_result"
    },
    {
     "data": {
      "image/png": "[encoded data removed]",
      "text/plain": [
       "<Figure size 432x288 with 1 Axes>"
      ]
     },
     "metadata": {
      "needs_background": "light"
     },
     "output_type": "display_data"
    }
   ],
   "source": [
    "data[['BaseRatingBin']][data['isApproval']==0].plot.hist()"
   ]
  },
  {
   "cell_type": "code",
   "execution_count": 11,
   "id": "a5cf7e40",
   "metadata": {},
   "outputs": [
    {
     "data": {
      "text/plain": [
       "<AxesSubplot:ylabel='Frequency'>"
      ]
     },
     "execution_count": 11,
     "metadata": {},
     "output_type": "execute_result"
    },
    {
     "data": {
      "image/png": "[encoded data removed]",
      "text/plain": [
       "<Figure size 432x288 with 1 Axes>"
      ]
     },
     "metadata": {
      "needs_background": "light"
     },
     "output_type": "display_data"
    }
   ],
   "source": [
    "data[['BaseRatingBin']][data['isApproval']==1].plot.hist()"
   ]
  },
  {
   "cell_type": "code",
   "execution_count": 12,
   "id": "ed1a61e7",
   "metadata": {},
   "outputs": [
    {
     "data": {
      "text/plain": [
       "<AxesSubplot:ylabel='Frequency'>"
      ]
     },
     "execution_count": 12,
     "metadata": {},
     "output_type": "execute_result"
    },
    {
     "data": {
      "image/png": "[encoded data removed]",
      "text/plain": [
       "<Figure size 432x288 with 1 Axes>"
      ]
     },
     "metadata": {
      "needs_background": "light"
     },
     "output_type": "display_data"
    }
   ],
   "source": [
    "data[['channelBin']][data['isApproval']==0].plot.hist()"
   ]
  },
  {
   "cell_type": "code",
   "execution_count": 13,
   "id": "ae39165c",
   "metadata": {},
   "outputs": [
    {
     "data": {
      "text/plain": [
       "<AxesSubplot:ylabel='Frequency'>"
      ]
     },
     "execution_count": 13,
     "metadata": {},
     "output_type": "execute_result"
    },
    {
     "data": {
      "image/png": "[encoded data removed]",
      "text/plain": [
       "<Figure size 432x288 with 1 Axes>"
      ]
     },
     "metadata": {
      "needs_background": "light"
     },
     "output_type": "display_data"
    }
   ],
   "source": [
    "data[['channelBin']][data['isApproval']==1].plot.hist()"
   ]
  },
  {
   "cell_type": "markdown",
   "id": "af36e0ab",
   "metadata": {},
   "source": [
    "# Part 2  Rule-Based Strategy"
   ]
  },
  {
   "cell_type": "markdown",
   "id": "af7c3c5d",
   "metadata": {},
   "source": [
    "We can get a basic idea of what criteria and cut-off we can use in our rules based the exploratory data analysis"
   ]
  },
  {
   "cell_type": "markdown",
   "id": "1da7f3f0",
   "metadata": {},
   "source": [
    "First we need to split the dataset into training and testing groups"
   ]
  },
  {
   "cell_type": "code",
   "execution_count": 14,
   "id": "6099ee99",
   "metadata": {},
   "outputs": [],
   "source": [
    "data['Aprv_Decision']=np.where(data['FICOScore']>=700,1,0)\n",
    "data['Aprv_Decision']=np.where(data['InquiryNum']<=2,data['Aprv_Decision'],0)\n",
    "data['Aprv_Decision']=np.where(data['BaseRatingBin']<=5,data['Aprv_Decision'],0)"
   ]
  },
  {
   "cell_type": "code",
   "execution_count": 15,
   "id": "98b88dcb",
   "metadata": {},
   "outputs": [
    {
     "data": {
      "text/plain": [
       "0    55652\n",
       "1    23536\n",
       "Name: Aprv_Decision, dtype: int64"
      ]
     },
     "execution_count": 15,
     "metadata": {},
     "output_type": "execute_result"
    }
   ],
   "source": [
    "data['Aprv_Decision'].value_counts()"
   ]
  },
  {
   "cell_type": "code",
   "execution_count": 16,
   "id": "11681c73",
   "metadata": {},
   "outputs": [
    {
     "data": {
      "text/plain": [
       "0    45687\n",
       "1    33501\n",
       "Name: isApproval, dtype: int64"
      ]
     },
     "execution_count": 16,
     "metadata": {},
     "output_type": "execute_result"
    }
   ],
   "source": [
    "data['isApproval'].value_counts()"
   ]
  },
  {
   "cell_type": "code",
   "execution_count": 17,
   "id": "989e3633",
   "metadata": {},
   "outputs": [
    {
     "data": {
      "text/plain": [
       "array([[43168,  2519],\n",
       "       [12484, 21017]], dtype=int64)"
      ]
     },
     "execution_count": 17,
     "metadata": {},
     "output_type": "execute_result"
    }
   ],
   "source": [
    "metrics.confusion_matrix(data['isApproval'], data['Aprv_Decision'])"
   ]
  },
  {
   "cell_type": "code",
   "execution_count": 18,
   "id": "7634a660",
   "metadata": {},
   "outputs": [
    {
     "data": {
      "text/plain": [
       "(43168, 2519, 12484, 21017)"
      ]
     },
     "execution_count": 18,
     "metadata": {},
     "output_type": "execute_result"
    }
   ],
   "source": [
    "tn, fp, fn, tp = metrics.confusion_matrix(data['isApproval'], data['Aprv_Decision']).ravel()\n",
    "(tn, fp, fn, tp)"
   ]
  },
  {
   "cell_type": "code",
   "execution_count": 19,
   "id": "be9ce00e",
   "metadata": {},
   "outputs": [
    {
     "data": {
      "text/plain": [
       "0.810539475678133"
      ]
     },
     "execution_count": 19,
     "metadata": {},
     "output_type": "execute_result"
    }
   ],
   "source": [
    "accuracy=(tp+tn)/len(data)\n",
    "accuracy"
   ]
  },
  {
   "cell_type": "markdown",
   "id": "120ac269",
   "metadata": {},
   "source": [
    "Accuracy is 81%, which means the approval/decline prediction is 81% right"
   ]
  },
  {
   "cell_type": "code",
   "execution_count": 20,
   "id": "8c26b1bb",
   "metadata": {},
   "outputs": [
    {
     "data": {
      "text/plain": [
       "0.8929724677090415"
      ]
     },
     "execution_count": 20,
     "metadata": {},
     "output_type": "execute_result"
    }
   ],
   "source": [
    "precision=tp/(tp+fp)\n",
    "precision"
   ]
  },
  {
   "cell_type": "markdown",
   "id": "ea94bad4",
   "metadata": {},
   "source": [
    "Precision is 89%, which means if it is predicted to be approved, then this application is 89% likely to be approved"
   ]
  },
  {
   "cell_type": "code",
   "execution_count": 21,
   "id": "bf6199b1",
   "metadata": {},
   "outputs": [
    {
     "data": {
      "text/plain": [
       "0.6273544073311245"
      ]
     },
     "execution_count": 21,
     "metadata": {},
     "output_type": "execute_result"
    }
   ],
   "source": [
    "recall=tp/(tp+fn)\n",
    "recall"
   ]
  },
  {
   "cell_type": "markdown",
   "id": "2175e719",
   "metadata": {},
   "source": [
    "Recall is 63%, which means it can cover 63% of total approval"
   ]
  },
  {
   "cell_type": "markdown",
   "id": "f69312ac",
   "metadata": {},
   "source": [
    "Overall, it is a good rule and it covers a half of approval. But only 1 rule is not enough, that is why we need a rule-set."
   ]
  },
  {
   "cell_type": "markdown",
   "id": "f8b84083",
   "metadata": {},
   "source": [
    "Let's try to write more rules to cover more based on this one. In this mini-case, I just update this existing rule's cut-off, but in real work we still need to write new rules."
   ]
  },
  {
   "cell_type": "markdown",
   "id": "61e7c031",
   "metadata": {},
   "source": [
    "Take a look at the population not approved by this rule. "
   ]
  },
  {
   "cell_type": "code",
   "execution_count": 22,
   "id": "2162c9fb",
   "metadata": {},
   "outputs": [
    {
     "data": {
      "text/plain": [
       "<AxesSubplot:ylabel='Frequency'>"
      ]
     },
     "execution_count": 22,
     "metadata": {},
     "output_type": "execute_result"
    },
    {
     "data": {
      "image/png": "[encoded data removed]",
      "text/plain": [
       "<Figure size 432x288 with 1 Axes>"
      ]
     },
     "metadata": {
      "needs_background": "light"
     },
     "output_type": "display_data"
    }
   ],
   "source": [
    "data[data['Aprv_Decision']==0]['FICOScore'][data['isApproval']==0].plot.hist()"
   ]
  },
  {
   "cell_type": "code",
   "execution_count": 23,
   "id": "bb0fca21",
   "metadata": {},
   "outputs": [
    {
     "data": {
      "text/plain": [
       "<AxesSubplot:ylabel='Frequency'>"
      ]
     },
     "execution_count": 23,
     "metadata": {},
     "output_type": "execute_result"
    },
    {
     "data": {
      "image/png": "[encoded data removed]",
      "text/plain": [
       "<Figure size 432x288 with 1 Axes>"
      ]
     },
     "metadata": {
      "needs_background": "light"
     },
     "output_type": "display_data"
    }
   ],
   "source": [
    "data[data['Aprv_Decision']==0]['FICOScore'][data['isApproval']==1].plot.hist()"
   ]
  },
  {
   "cell_type": "code",
   "execution_count": 24,
   "id": "8482531e",
   "metadata": {},
   "outputs": [
    {
     "data": {
      "text/plain": [
       "<AxesSubplot:ylabel='Frequency'>"
      ]
     },
     "execution_count": 24,
     "metadata": {},
     "output_type": "execute_result"
    },
    {
     "data": {
      "image/png": "[encoded data removed]",
      "text/plain": [
       "<Figure size 432x288 with 1 Axes>"
      ]
     },
     "metadata": {
      "needs_background": "light"
     },
     "output_type": "display_data"
    }
   ],
   "source": [
    "data[data['Aprv_Decision']==0]['InquiryNum'][data['isApproval']==0].plot.hist()"
   ]
  },
  {
   "cell_type": "code",
   "execution_count": 25,
   "id": "1628a937",
   "metadata": {},
   "outputs": [
    {
     "data": {
      "text/plain": [
       "<AxesSubplot:ylabel='Frequency'>"
      ]
     },
     "execution_count": 25,
     "metadata": {},
     "output_type": "execute_result"
    },
    {
     "data": {
      "image/png": "[encoded data removed]",
      "text/plain": [
       "<Figure size 432x288 with 1 Axes>"
      ]
     },
     "metadata": {
      "needs_background": "light"
     },
     "output_type": "display_data"
    }
   ],
   "source": [
    "data[data['Aprv_Decision']==0]['InquiryNum'][data['isApproval']==1].plot.hist()"
   ]
  },
  {
   "cell_type": "code",
   "execution_count": 26,
   "id": "fb2dc28a",
   "metadata": {},
   "outputs": [
    {
     "data": {
      "text/plain": [
       "<AxesSubplot:ylabel='Frequency'>"
      ]
     },
     "execution_count": 26,
     "metadata": {},
     "output_type": "execute_result"
    },
    {
     "data": {
      "image/png": "[encoded data removed]",
      "text/plain": [
       "<Figure size 432x288 with 1 Axes>"
      ]
     },
     "metadata": {
      "needs_background": "light"
     },
     "output_type": "display_data"
    }
   ],
   "source": [
    "data[data['Aprv_Decision']==0]['BaseRatingBin'][data['isApproval']==0].plot.hist()"
   ]
  },
  {
   "cell_type": "code",
   "execution_count": 27,
   "id": "d9094dd8",
   "metadata": {},
   "outputs": [
    {
     "data": {
      "text/plain": [
       "<AxesSubplot:ylabel='Frequency'>"
      ]
     },
     "execution_count": 27,
     "metadata": {},
     "output_type": "execute_result"
    },
    {
     "data": {
      "image/png": "[encoded data removed]",
      "text/plain": [
       "<Figure size 432x288 with 1 Axes>"
      ]
     },
     "metadata": {
      "needs_background": "light"
     },
     "output_type": "display_data"
    }
   ],
   "source": [
    "data[data['Aprv_Decision']==0]['BaseRatingBin'][data['isApproval']==1].plot.hist()"
   ]
  },
  {
   "cell_type": "code",
   "execution_count": 28,
   "id": "332b4ead",
   "metadata": {},
   "outputs": [],
   "source": [
    "data['Aprv_Decision']=np.where(data['FICOScore']>=670,1,0)\n",
    "data['Aprv_Decision']=np.where(data['InquiryNum']<=2,data['Aprv_Decision'],0)\n",
    "data['Aprv_Decision']=np.where(data['BaseRatingBin']<=6,data['Aprv_Decision'],0)"
   ]
  },
  {
   "cell_type": "code",
   "execution_count": 29,
   "id": "90b60394",
   "metadata": {},
   "outputs": [
    {
     "data": {
      "text/plain": [
       "0    47898\n",
       "1    31290\n",
       "Name: Aprv_Decision, dtype: int64"
      ]
     },
     "execution_count": 29,
     "metadata": {},
     "output_type": "execute_result"
    }
   ],
   "source": [
    "data['Aprv_Decision'].value_counts()"
   ]
  },
  {
   "cell_type": "code",
   "execution_count": 30,
   "id": "8bbf7d19",
   "metadata": {},
   "outputs": [
    {
     "data": {
      "text/plain": [
       "0    45687\n",
       "1    33501\n",
       "Name: isApproval, dtype: int64"
      ]
     },
     "execution_count": 30,
     "metadata": {},
     "output_type": "execute_result"
    }
   ],
   "source": [
    "data['isApproval'].value_counts()"
   ]
  },
  {
   "cell_type": "code",
   "execution_count": 31,
   "id": "0f3b5dda",
   "metadata": {},
   "outputs": [
    {
     "data": {
      "text/plain": [
       "array([[41337,  4350],\n",
       "       [ 6561, 26940]], dtype=int64)"
      ]
     },
     "execution_count": 31,
     "metadata": {},
     "output_type": "execute_result"
    }
   ],
   "source": [
    "metrics.confusion_matrix(data['isApproval'], data['Aprv_Decision'])"
   ]
  },
  {
   "cell_type": "code",
   "execution_count": 32,
   "id": "0836ce99",
   "metadata": {},
   "outputs": [
    {
     "data": {
      "text/plain": [
       "(41337, 4350, 6561, 26940)"
      ]
     },
     "execution_count": 32,
     "metadata": {},
     "output_type": "execute_result"
    }
   ],
   "source": [
    "tn, fp, fn, tp = metrics.confusion_matrix(data['isApproval'], data['Aprv_Decision']).ravel()\n",
    "(tn, fp, fn, tp)"
   ]
  },
  {
   "cell_type": "code",
   "execution_count": 33,
   "id": "1b78d954",
   "metadata": {},
   "outputs": [
    {
     "data": {
      "text/plain": [
       "0.8622139718139112"
      ]
     },
     "execution_count": 33,
     "metadata": {},
     "output_type": "execute_result"
    }
   ],
   "source": [
    "accuracy=(tp+tn)/len(data)\n",
    "accuracy"
   ]
  },
  {
   "cell_type": "code",
   "execution_count": 34,
   "id": "b4cea152",
   "metadata": {},
   "outputs": [
    {
     "data": {
      "text/plain": [
       "0.8609779482262704"
      ]
     },
     "execution_count": 34,
     "metadata": {},
     "output_type": "execute_result"
    }
   ],
   "source": [
    "precision=tp/(tp+fp)\n",
    "precision"
   ]
  },
  {
   "cell_type": "code",
   "execution_count": 35,
   "id": "def66b87",
   "metadata": {},
   "outputs": [
    {
     "data": {
      "text/plain": [
       "0.8041550998477658"
      ]
     },
     "execution_count": 35,
     "metadata": {},
     "output_type": "execute_result"
    }
   ],
   "source": [
    "recall=tp/(tp+fn)\n",
    "recall"
   ]
  },
  {
   "cell_type": "markdown",
   "id": "0bdca150",
   "metadata": {},
   "source": [
    "We got much more approvals while the accuracy and precision are still good.There is still much space to build more rules to increase approval coverage as well as decrease the false approval if there is more time and more data."
   ]
  },
  {
   "cell_type": "markdown",
   "id": "406137a1",
   "metadata": {},
   "source": [
    "# Part 3 Decision Tree Model"
   ]
  },
  {
   "cell_type": "markdown",
   "id": "3954a6c1",
   "metadata": {},
   "source": [
    "It is better to use CART or GBM, which are more powerful to deal with category variables and missing values, however my personal laptop does not support the tensorflow_decision_forests, so I just use a simple decision tree for this time."
   ]
  },
  {
   "cell_type": "code",
   "execution_count": 36,
   "id": "43fc670b",
   "metadata": {},
   "outputs": [
    {
     "data": {
      "text/html": [
       "<div>\n",
       "<style scoped>\n",
       "    .dataframe tbody tr th:only-of-type {\n",
       "        vertical-align: middle;\n",
       "    }\n",
       "\n",
       "    .dataframe tbody tr th {\n",
       "        vertical-align: top;\n",
       "    }\n",
       "\n",
       "    .dataframe thead th {\n",
       "        text-align: right;\n",
       "    }\n",
       "</style>\n",
       "<table border=\"1\" class=\"dataframe\">\n",
       "  <thead>\n",
       "    <tr style=\"text-align: right;\">\n",
       "      <th></th>\n",
       "      <th>SignalDateTime</th>\n",
       "      <th>isApplication</th>\n",
       "      <th>isApproval</th>\n",
       "      <th>isAcceptance</th>\n",
       "      <th>isCompletion</th>\n",
       "      <th>FICOScore</th>\n",
       "      <th>RequestedAmount</th>\n",
       "      <th>InquiryNum</th>\n",
       "      <th>BaseRatingBin</th>\n",
       "      <th>channelBin</th>\n",
       "      <th>Aprv_Decision</th>\n",
       "    </tr>\n",
       "  </thead>\n",
       "  <tbody>\n",
       "    <tr>\n",
       "      <th>0</th>\n",
       "      <td>2020-03-01 00:08:00</td>\n",
       "      <td>1</td>\n",
       "      <td>1</td>\n",
       "      <td>0</td>\n",
       "      <td>0</td>\n",
       "      <td>714.0</td>\n",
       "      <td>11000.0</td>\n",
       "      <td>0.0</td>\n",
       "      <td>6.0</td>\n",
       "      <td>1</td>\n",
       "      <td>1</td>\n",
       "    </tr>\n",
       "    <tr>\n",
       "      <th>1</th>\n",
       "      <td>2020-03-01 00:19:00</td>\n",
       "      <td>1</td>\n",
       "      <td>0</td>\n",
       "      <td>0</td>\n",
       "      <td>0</td>\n",
       "      <td>665.0</td>\n",
       "      <td>16000.0</td>\n",
       "      <td>0.0</td>\n",
       "      <td>7.0</td>\n",
       "      <td>1</td>\n",
       "      <td>0</td>\n",
       "    </tr>\n",
       "    <tr>\n",
       "      <th>2</th>\n",
       "      <td>2020-03-01 00:19:00</td>\n",
       "      <td>1</td>\n",
       "      <td>0</td>\n",
       "      <td>0</td>\n",
       "      <td>0</td>\n",
       "      <td>553.0</td>\n",
       "      <td>3000.0</td>\n",
       "      <td>1.0</td>\n",
       "      <td>8.0</td>\n",
       "      <td>8</td>\n",
       "      <td>0</td>\n",
       "    </tr>\n",
       "    <tr>\n",
       "      <th>3</th>\n",
       "      <td>2020-03-01 00:31:00</td>\n",
       "      <td>1</td>\n",
       "      <td>1</td>\n",
       "      <td>0</td>\n",
       "      <td>0</td>\n",
       "      <td>738.0</td>\n",
       "      <td>8000.0</td>\n",
       "      <td>0.0</td>\n",
       "      <td>3.0</td>\n",
       "      <td>1</td>\n",
       "      <td>1</td>\n",
       "    </tr>\n",
       "    <tr>\n",
       "      <th>4</th>\n",
       "      <td>2020-03-01 00:42:00</td>\n",
       "      <td>1</td>\n",
       "      <td>1</td>\n",
       "      <td>0</td>\n",
       "      <td>0</td>\n",
       "      <td>710.0</td>\n",
       "      <td>13500.0</td>\n",
       "      <td>-4.0</td>\n",
       "      <td>4.0</td>\n",
       "      <td>1</td>\n",
       "      <td>1</td>\n",
       "    </tr>\n",
       "    <tr>\n",
       "      <th>...</th>\n",
       "      <td>...</td>\n",
       "      <td>...</td>\n",
       "      <td>...</td>\n",
       "      <td>...</td>\n",
       "      <td>...</td>\n",
       "      <td>...</td>\n",
       "      <td>...</td>\n",
       "      <td>...</td>\n",
       "      <td>...</td>\n",
       "      <td>...</td>\n",
       "      <td>...</td>\n",
       "    </tr>\n",
       "    <tr>\n",
       "      <th>79182</th>\n",
       "      <td>2020-05-30 23:23:00</td>\n",
       "      <td>1</td>\n",
       "      <td>1</td>\n",
       "      <td>0</td>\n",
       "      <td>0</td>\n",
       "      <td>731.0</td>\n",
       "      <td>36000.0</td>\n",
       "      <td>1.0</td>\n",
       "      <td>2.0</td>\n",
       "      <td>1</td>\n",
       "      <td>1</td>\n",
       "    </tr>\n",
       "    <tr>\n",
       "      <th>79184</th>\n",
       "      <td>2020-05-30 23:44:00</td>\n",
       "      <td>1</td>\n",
       "      <td>0</td>\n",
       "      <td>0</td>\n",
       "      <td>0</td>\n",
       "      <td>696.0</td>\n",
       "      <td>3000.0</td>\n",
       "      <td>8.0</td>\n",
       "      <td>8.0</td>\n",
       "      <td>8</td>\n",
       "      <td>0</td>\n",
       "    </tr>\n",
       "    <tr>\n",
       "      <th>79185</th>\n",
       "      <td>2020-05-30 23:45:00</td>\n",
       "      <td>1</td>\n",
       "      <td>0</td>\n",
       "      <td>0</td>\n",
       "      <td>0</td>\n",
       "      <td>701.0</td>\n",
       "      <td>28000.0</td>\n",
       "      <td>-4.0</td>\n",
       "      <td>8.0</td>\n",
       "      <td>1</td>\n",
       "      <td>0</td>\n",
       "    </tr>\n",
       "    <tr>\n",
       "      <th>79186</th>\n",
       "      <td>2020-05-30 23:47:00</td>\n",
       "      <td>1</td>\n",
       "      <td>1</td>\n",
       "      <td>0</td>\n",
       "      <td>0</td>\n",
       "      <td>685.0</td>\n",
       "      <td>13200.0</td>\n",
       "      <td>0.0</td>\n",
       "      <td>4.0</td>\n",
       "      <td>1</td>\n",
       "      <td>1</td>\n",
       "    </tr>\n",
       "    <tr>\n",
       "      <th>79187</th>\n",
       "      <td>2020-05-30 23:53:00</td>\n",
       "      <td>1</td>\n",
       "      <td>0</td>\n",
       "      <td>0</td>\n",
       "      <td>0</td>\n",
       "      <td>668.0</td>\n",
       "      <td>10000.0</td>\n",
       "      <td>0.0</td>\n",
       "      <td>8.0</td>\n",
       "      <td>1</td>\n",
       "      <td>0</td>\n",
       "    </tr>\n",
       "  </tbody>\n",
       "</table>\n",
       "<p>69481 rows × 11 columns</p>\n",
       "</div>"
      ],
      "text/plain": [
       "            SignalDateTime  isApplication  isApproval  isAcceptance  \\\n",
       "0      2020-03-01 00:08:00              1           1             0   \n",
       "1      2020-03-01 00:19:00              1           0             0   \n",
       "2      2020-03-01 00:19:00              1           0             0   \n",
       "3      2020-03-01 00:31:00              1           1             0   \n",
       "4      2020-03-01 00:42:00              1           1             0   \n",
       "...                    ...            ...         ...           ...   \n",
       "79182  2020-05-30 23:23:00              1           1             0   \n",
       "79184  2020-05-30 23:44:00              1           0             0   \n",
       "79185  2020-05-30 23:45:00              1           0             0   \n",
       "79186  2020-05-30 23:47:00              1           1             0   \n",
       "79187  2020-05-30 23:53:00              1           0             0   \n",
       "\n",
       "       isCompletion  FICOScore  RequestedAmount  InquiryNum  BaseRatingBin  \\\n",
       "0                 0      714.0          11000.0         0.0            6.0   \n",
       "1                 0      665.0          16000.0         0.0            7.0   \n",
       "2                 0      553.0           3000.0         1.0            8.0   \n",
       "3                 0      738.0           8000.0         0.0            3.0   \n",
       "4                 0      710.0          13500.0        -4.0            4.0   \n",
       "...             ...        ...              ...         ...            ...   \n",
       "79182             0      731.0          36000.0         1.0            2.0   \n",
       "79184             0      696.0           3000.0         8.0            8.0   \n",
       "79185             0      701.0          28000.0        -4.0            8.0   \n",
       "79186             0      685.0          13200.0         0.0            4.0   \n",
       "79187             0      668.0          10000.0         0.0            8.0   \n",
       "\n",
       "       channelBin  Aprv_Decision  \n",
       "0               1              1  \n",
       "1               1              0  \n",
       "2               8              0  \n",
       "3               1              1  \n",
       "4               1              1  \n",
       "...           ...            ...  \n",
       "79182           1              1  \n",
       "79184           8              0  \n",
       "79185           1              0  \n",
       "79186           1              1  \n",
       "79187           1              0  \n",
       "\n",
       "[69481 rows x 11 columns]"
      ]
     },
     "execution_count": 36,
     "metadata": {},
     "output_type": "execute_result"
    }
   ],
   "source": [
    "df=data.dropna()\n",
    "df"
   ]
  },
  {
   "cell_type": "code",
   "execution_count": 37,
   "id": "f90bceab",
   "metadata": {},
   "outputs": [
    {
     "name": "stdout",
     "output_type": "stream",
     "text": [
      "<class 'pandas.core.frame.DataFrame'>\n",
      "Int64Index: 69481 entries, 0 to 79187\n",
      "Data columns (total 11 columns):\n",
      " #   Column           Non-Null Count  Dtype  \n",
      "---  ------           --------------  -----  \n",
      " 0   SignalDateTime   69481 non-null  object \n",
      " 1   isApplication    69481 non-null  int64  \n",
      " 2   isApproval       69481 non-null  int64  \n",
      " 3   isAcceptance     69481 non-null  int64  \n",
      " 4   isCompletion     69481 non-null  int64  \n",
      " 5   FICOScore        69481 non-null  float64\n",
      " 6   RequestedAmount  69481 non-null  float64\n",
      " 7   InquiryNum       69481 non-null  float64\n",
      " 8   BaseRatingBin    69481 non-null  float64\n",
      " 9   channelBin       69481 non-null  int64  \n",
      " 10  Aprv_Decision    69481 non-null  int32  \n",
      "dtypes: float64(4), int32(1), int64(5), object(1)\n",
      "memory usage: 6.1+ MB\n"
     ]
    }
   ],
   "source": [
    "df.info()"
   ]
  },
  {
   "cell_type": "markdown",
   "id": "16a7c39e",
   "metadata": {},
   "source": [
    "Only use 'FICOScore','RequestedAmount','InquiryNum','BaseRatingBin','channelBin' as predictors"
   ]
  },
  {
   "cell_type": "code",
   "execution_count": 38,
   "id": "1d21c499",
   "metadata": {},
   "outputs": [],
   "source": [
    "x, y = df[['FICOScore','RequestedAmount','InquiryNum','BaseRatingBin','channelBin']],df['isApproval']\n",
    "x_train, x_test, y_train, y_test = train_test_split(x, y, test_size=0.5, random_state=33)"
   ]
  },
  {
   "cell_type": "code",
   "execution_count": 39,
   "id": "39bf6e62",
   "metadata": {},
   "outputs": [],
   "source": [
    "clf = tree.DecisionTreeClassifier(criterion='entropy',max_depth=5,min_samples_leaf=5)\n",
    "clf = clf.fit(x_train, y_train)"
   ]
  },
  {
   "cell_type": "code",
   "execution_count": 40,
   "id": "a95e93a5",
   "metadata": {},
   "outputs": [
    {
     "data": {
      "text/plain": [
       "[Text(184.30096153846154, 199.32, 'X[3] <= 5.5\\nentropy = 0.998\\nsamples = 34740\\nvalue = [18304, 16436]'),\n",
       " Text(101.40576923076924, 163.07999999999998, 'X[3] <= 3.5\\nentropy = 0.555\\nsamples = 16271\\nvalue = [2099, 14172]'),\n",
       " Text(51.50769230769231, 126.83999999999999, 'X[2] <= 0.5\\nentropy = 0.409\\nsamples = 10475\\nvalue = [859, 9616]'),\n",
       " Text(25.753846153846155, 90.6, 'X[3] <= 1.5\\nentropy = 0.285\\nsamples = 5852\\nvalue = [290, 5562]'),\n",
       " Text(12.876923076923077, 54.359999999999985, 'X[1] <= 24944.0\\nentropy = 0.123\\nsamples = 2090\\nvalue = [35, 2055]'),\n",
       " Text(6.438461538461539, 18.119999999999976, 'entropy = 0.07\\nsamples = 1548\\nvalue = [13, 1535]'),\n",
       " Text(19.315384615384616, 18.119999999999976, 'entropy = 0.245\\nsamples = 542\\nvalue = [22, 520]'),\n",
       " Text(38.63076923076923, 54.359999999999985, 'X[1] <= 19973.5\\nentropy = 0.358\\nsamples = 3762\\nvalue = [255, 3507]'),\n",
       " Text(32.19230769230769, 18.119999999999976, 'entropy = 0.303\\nsamples = 2426\\nvalue = [131, 2295]'),\n",
       " Text(45.06923076923077, 18.119999999999976, 'entropy = 0.446\\nsamples = 1336\\nvalue = [124, 1212]'),\n",
       " Text(77.26153846153846, 90.6, 'X[3] <= 2.5\\nentropy = 0.538\\nsamples = 4623\\nvalue = [569, 4054]'),\n",
       " Text(64.38461538461539, 54.359999999999985, 'X[1] <= 29760.5\\nentropy = 0.439\\nsamples = 2831\\nvalue = [257, 2574]'),\n",
       " Text(57.94615384615385, 18.119999999999976, 'entropy = 0.381\\nsamples = 2156\\nvalue = [160, 1996]'),\n",
       " Text(70.82307692307693, 18.119999999999976, 'entropy = 0.594\\nsamples = 675\\nvalue = [97, 578]'),\n",
       " Text(90.13846153846154, 54.359999999999985, 'X[2] <= 4.5\\nentropy = 0.667\\nsamples = 1792\\nvalue = [312, 1480]'),\n",
       " Text(83.7, 18.119999999999976, 'entropy = 0.654\\nsamples = 1780\\nvalue = [300, 1480]'),\n",
       " Text(96.57692307692308, 18.119999999999976, 'entropy = 0.0\\nsamples = 12\\nvalue = [12, 0]'),\n",
       " Text(151.30384615384617, 126.83999999999999, 'X[2] <= 0.5\\nentropy = 0.749\\nsamples = 5796\\nvalue = [1240, 4556]'),\n",
       " Text(128.76923076923077, 90.6, 'X[1] <= 24649.333\\nentropy = 0.632\\nsamples = 2888\\nvalue = [459, 2429]'),\n",
       " Text(115.8923076923077, 54.359999999999985, 'X[4] <= 3.5\\nentropy = 0.59\\nsamples = 2267\\nvalue = [322, 1945]'),\n",
       " Text(109.45384615384616, 18.119999999999976, 'entropy = 0.542\\nsamples = 1537\\nvalue = [191, 1346]'),\n",
       " Text(122.33076923076923, 18.119999999999976, 'entropy = 0.679\\nsamples = 730\\nvalue = [131, 599]'),\n",
       " Text(141.64615384615385, 54.359999999999985, 'X[1] <= 37794.0\\nentropy = 0.761\\nsamples = 621\\nvalue = [137, 484]'),\n",
       " Text(135.2076923076923, 18.119999999999976, 'entropy = 0.714\\nsamples = 485\\nvalue = [95, 390]'),\n",
       " Text(148.0846153846154, 18.119999999999976, 'entropy = 0.892\\nsamples = 136\\nvalue = [42, 94]'),\n",
       " Text(173.83846153846156, 90.6, 'X[2] <= 4.5\\nentropy = 0.839\\nsamples = 2908\\nvalue = [781, 2127]'),\n",
       " Text(167.4, 54.359999999999985, 'X[3] <= 4.5\\nentropy = 0.829\\nsamples = 2879\\nvalue = [752, 2127]'),\n",
       " Text(160.96153846153845, 18.119999999999976, 'entropy = 0.762\\nsamples = 1644\\nvalue = [363, 1281]'),\n",
       " Text(173.83846153846156, 18.119999999999976, 'entropy = 0.899\\nsamples = 1235\\nvalue = [389, 846]'),\n",
       " Text(180.27692307692308, 54.359999999999985, 'entropy = 0.0\\nsamples = 29\\nvalue = [29, 0]'),\n",
       " Text(267.19615384615383, 163.07999999999998, 'X[3] <= 7.5\\nentropy = 0.537\\nsamples = 18469\\nvalue = [16205, 2264]'),\n",
       " Text(231.7846153846154, 126.83999999999999, 'X[0] <= 639.5\\nentropy = 0.763\\nsamples = 10172\\nvalue = [7918, 2254]'),\n",
       " Text(206.03076923076924, 90.6, 'X[3] <= 6.5\\nentropy = 0.276\\nsamples = 5114\\nvalue = [4871, 243]'),\n",
       " Text(193.15384615384616, 54.359999999999985, 'X[0] <= 619.5\\nentropy = 0.372\\nsamples = 2432\\nvalue = [2258, 174]'),\n",
       " Text(186.7153846153846, 18.119999999999976, 'entropy = 0.764\\nsamples = 18\\nvalue = [4, 14]'),\n",
       " Text(199.5923076923077, 18.119999999999976, 'entropy = 0.352\\nsamples = 2414\\nvalue = [2254, 160]'),\n",
       " Text(218.90769230769232, 54.359999999999985, 'X[2] <= 0.5\\nentropy = 0.172\\nsamples = 2682\\nvalue = [2613, 69]'),\n",
       " Text(212.46923076923076, 18.119999999999976, 'entropy = 0.238\\nsamples = 821\\nvalue = [789, 32]'),\n",
       " Text(225.34615384615387, 18.119999999999976, 'entropy = 0.141\\nsamples = 1861\\nvalue = [1824, 37]'),\n",
       " Text(257.53846153846155, 90.6, 'X[3] <= 6.5\\nentropy = 0.97\\nsamples = 5058\\nvalue = [3047, 2011]'),\n",
       " Text(244.66153846153847, 54.359999999999985, 'X[2] <= 1.5\\nentropy = 0.967\\nsamples = 2008\\nvalue = [790, 1218]'),\n",
       " Text(238.22307692307692, 18.119999999999976, 'entropy = 0.926\\nsamples = 1514\\nvalue = [516, 998]'),\n",
       " Text(251.10000000000002, 18.119999999999976, 'entropy = 0.991\\nsamples = 494\\nvalue = [274, 220]'),\n",
       " Text(270.4153846153846, 54.359999999999985, 'X[2] <= 2.5\\nentropy = 0.827\\nsamples = 3050\\nvalue = [2257, 793]'),\n",
       " Text(263.9769230769231, 18.119999999999976, 'entropy = 0.866\\nsamples = 2596\\nvalue = [1849, 747]'),\n",
       " Text(276.8538461538462, 18.119999999999976, 'entropy = 0.473\\nsamples = 454\\nvalue = [408, 46]'),\n",
       " Text(302.60769230769233, 126.83999999999999, 'X[1] <= 5476.0\\nentropy = 0.013\\nsamples = 8297\\nvalue = [8287, 10]'),\n",
       " Text(296.1692307692308, 90.6, 'entropy = 0.0\\nsamples = 2024\\nvalue = [2024, 0]'),\n",
       " Text(309.04615384615386, 90.6, 'X[1] <= 8022.5\\nentropy = 0.017\\nsamples = 6273\\nvalue = [6263, 10]'),\n",
       " Text(296.1692307692308, 54.359999999999985, 'X[0] <= 690.5\\nentropy = 0.045\\nsamples = 810\\nvalue = [806, 4]'),\n",
       " Text(289.7307692307692, 18.119999999999976, 'entropy = 0.028\\nsamples = 713\\nvalue = [711, 2]'),\n",
       " Text(302.60769230769233, 18.119999999999976, 'entropy = 0.145\\nsamples = 97\\nvalue = [95, 2]'),\n",
       " Text(321.9230769230769, 54.359999999999985, 'X[1] <= 14996.0\\nentropy = 0.012\\nsamples = 5463\\nvalue = [5457, 6]'),\n",
       " Text(315.4846153846154, 18.119999999999976, 'entropy = 0.0\\nsamples = 2725\\nvalue = [2725, 0]'),\n",
       " Text(328.3615384615385, 18.119999999999976, 'entropy = 0.023\\nsamples = 2738\\nvalue = [2732, 6]')]"
      ]
     },
     "execution_count": 40,
     "metadata": {},
     "output_type": "execute_result"
    },
    {
     "data": {
      "image/png": "[encoded data removed]",
      "text/plain": [
       "<Figure size 432x288 with 1 Axes>"
      ]
     },
     "metadata": {
      "needs_background": "light"
     },
     "output_type": "display_data"
    }
   ],
   "source": [
    "tree.plot_tree(clf)"
   ]
  },
  {
   "cell_type": "code",
   "execution_count": 41,
   "id": "54b0d39c",
   "metadata": {},
   "outputs": [],
   "source": [
    "y_pred=clf.predict(x_test)"
   ]
  },
  {
   "cell_type": "code",
   "execution_count": 42,
   "id": "a570fa10",
   "metadata": {},
   "outputs": [
    {
     "data": {
      "text/plain": [
       "array([[15862,  2575],\n",
       "       [ 1268, 15036]], dtype=int64)"
      ]
     },
     "execution_count": 42,
     "metadata": {},
     "output_type": "execute_result"
    }
   ],
   "source": [
    "metrics.confusion_matrix(y_test,y_pred)"
   ]
  },
  {
   "cell_type": "code",
   "execution_count": 43,
   "id": "1f739cae",
   "metadata": {},
   "outputs": [
    {
     "data": {
      "text/plain": [
       "0.8893814225266976"
      ]
     },
     "execution_count": 43,
     "metadata": {},
     "output_type": "execute_result"
    }
   ],
   "source": [
    "metrics.accuracy_score(y_test, y_pred)"
   ]
  },
  {
   "cell_type": "code",
   "execution_count": 44,
   "id": "691010f6",
   "metadata": {},
   "outputs": [
    {
     "data": {
      "text/plain": [
       "0.8537845664641417"
      ]
     },
     "execution_count": 44,
     "metadata": {},
     "output_type": "execute_result"
    }
   ],
   "source": [
    "metrics.precision_score(y_test, y_pred)"
   ]
  },
  {
   "cell_type": "code",
   "execution_count": 45,
   "id": "f471fd53",
   "metadata": {},
   "outputs": [
    {
     "data": {
      "text/plain": [
       "0.9222276741903828"
      ]
     },
     "execution_count": 45,
     "metadata": {},
     "output_type": "execute_result"
    }
   ],
   "source": [
    "metrics.recall_score(y_test, y_pred)"
   ]
  },
  {
   "cell_type": "markdown",
   "id": "5125e662",
   "metadata": {},
   "source": [
    "Accuracy, precision and recall all look good."
   ]
  },
  {
   "cell_type": "markdown",
   "id": "475c2d44",
   "metadata": {},
   "source": [
    "# Part 4 Combine Rules with Decision Tree Model"
   ]
  },
  {
   "cell_type": "markdown",
   "id": "fb146942",
   "metadata": {},
   "source": [
    "Most of time, we will combine rules with models"
   ]
  },
  {
   "cell_type": "code",
   "execution_count": 46,
   "id": "4727c91d",
   "metadata": {},
   "outputs": [
    {
     "data": {
      "text/html": [
       "<div>\n",
       "<style scoped>\n",
       "    .dataframe tbody tr th:only-of-type {\n",
       "        vertical-align: middle;\n",
       "    }\n",
       "\n",
       "    .dataframe tbody tr th {\n",
       "        vertical-align: top;\n",
       "    }\n",
       "\n",
       "    .dataframe thead th {\n",
       "        text-align: right;\n",
       "    }\n",
       "</style>\n",
       "<table border=\"1\" class=\"dataframe\">\n",
       "  <thead>\n",
       "    <tr style=\"text-align: right;\">\n",
       "      <th></th>\n",
       "      <th>isApproval</th>\n",
       "      <th>FICOScore</th>\n",
       "      <th>RequestedAmount</th>\n",
       "      <th>InquiryNum</th>\n",
       "      <th>BaseRatingBin</th>\n",
       "      <th>channelBin</th>\n",
       "      <th>pred</th>\n",
       "    </tr>\n",
       "  </thead>\n",
       "  <tbody>\n",
       "    <tr>\n",
       "      <th>1948</th>\n",
       "      <td>0</td>\n",
       "      <td>583.0</td>\n",
       "      <td>2500.0</td>\n",
       "      <td>0.0</td>\n",
       "      <td>8.0</td>\n",
       "      <td>1</td>\n",
       "      <td>0</td>\n",
       "    </tr>\n",
       "    <tr>\n",
       "      <th>19522</th>\n",
       "      <td>1</td>\n",
       "      <td>766.0</td>\n",
       "      <td>12000.0</td>\n",
       "      <td>3.0</td>\n",
       "      <td>2.0</td>\n",
       "      <td>8</td>\n",
       "      <td>1</td>\n",
       "    </tr>\n",
       "    <tr>\n",
       "      <th>62699</th>\n",
       "      <td>1</td>\n",
       "      <td>730.0</td>\n",
       "      <td>2000.0</td>\n",
       "      <td>3.0</td>\n",
       "      <td>3.0</td>\n",
       "      <td>4</td>\n",
       "      <td>1</td>\n",
       "    </tr>\n",
       "    <tr>\n",
       "      <th>6702</th>\n",
       "      <td>1</td>\n",
       "      <td>627.0</td>\n",
       "      <td>18000.0</td>\n",
       "      <td>0.0</td>\n",
       "      <td>6.0</td>\n",
       "      <td>1</td>\n",
       "      <td>0</td>\n",
       "    </tr>\n",
       "    <tr>\n",
       "      <th>47061</th>\n",
       "      <td>1</td>\n",
       "      <td>684.0</td>\n",
       "      <td>7000.0</td>\n",
       "      <td>0.0</td>\n",
       "      <td>5.0</td>\n",
       "      <td>1</td>\n",
       "      <td>1</td>\n",
       "    </tr>\n",
       "    <tr>\n",
       "      <th>...</th>\n",
       "      <td>...</td>\n",
       "      <td>...</td>\n",
       "      <td>...</td>\n",
       "      <td>...</td>\n",
       "      <td>...</td>\n",
       "      <td>...</td>\n",
       "      <td>...</td>\n",
       "    </tr>\n",
       "    <tr>\n",
       "      <th>2954</th>\n",
       "      <td>0</td>\n",
       "      <td>602.0</td>\n",
       "      <td>19000.0</td>\n",
       "      <td>1.0</td>\n",
       "      <td>7.0</td>\n",
       "      <td>1</td>\n",
       "      <td>0</td>\n",
       "    </tr>\n",
       "    <tr>\n",
       "      <th>76799</th>\n",
       "      <td>0</td>\n",
       "      <td>793.0</td>\n",
       "      <td>30000.0</td>\n",
       "      <td>0.0</td>\n",
       "      <td>1.0</td>\n",
       "      <td>8</td>\n",
       "      <td>1</td>\n",
       "    </tr>\n",
       "    <tr>\n",
       "      <th>76306</th>\n",
       "      <td>1</td>\n",
       "      <td>705.0</td>\n",
       "      <td>15000.0</td>\n",
       "      <td>0.0</td>\n",
       "      <td>4.0</td>\n",
       "      <td>1</td>\n",
       "      <td>1</td>\n",
       "    </tr>\n",
       "    <tr>\n",
       "      <th>30583</th>\n",
       "      <td>1</td>\n",
       "      <td>666.0</td>\n",
       "      <td>40000.0</td>\n",
       "      <td>3.0</td>\n",
       "      <td>5.0</td>\n",
       "      <td>6</td>\n",
       "      <td>1</td>\n",
       "    </tr>\n",
       "    <tr>\n",
       "      <th>8852</th>\n",
       "      <td>1</td>\n",
       "      <td>747.0</td>\n",
       "      <td>40000.0</td>\n",
       "      <td>0.0</td>\n",
       "      <td>3.0</td>\n",
       "      <td>8</td>\n",
       "      <td>1</td>\n",
       "    </tr>\n",
       "  </tbody>\n",
       "</table>\n",
       "<p>34741 rows × 7 columns</p>\n",
       "</div>"
      ],
      "text/plain": [
       "       isApproval  FICOScore  RequestedAmount  InquiryNum  BaseRatingBin  \\\n",
       "1948            0      583.0           2500.0         0.0            8.0   \n",
       "19522           1      766.0          12000.0         3.0            2.0   \n",
       "62699           1      730.0           2000.0         3.0            3.0   \n",
       "6702            1      627.0          18000.0         0.0            6.0   \n",
       "47061           1      684.0           7000.0         0.0            5.0   \n",
       "...           ...        ...              ...         ...            ...   \n",
       "2954            0      602.0          19000.0         1.0            7.0   \n",
       "76799           0      793.0          30000.0         0.0            1.0   \n",
       "76306           1      705.0          15000.0         0.0            4.0   \n",
       "30583           1      666.0          40000.0         3.0            5.0   \n",
       "8852            1      747.0          40000.0         0.0            3.0   \n",
       "\n",
       "       channelBin  pred  \n",
       "1948            1     0  \n",
       "19522           8     1  \n",
       "62699           4     1  \n",
       "6702            1     0  \n",
       "47061           1     1  \n",
       "...           ...   ...  \n",
       "2954            1     0  \n",
       "76799           8     1  \n",
       "76306           1     1  \n",
       "30583           6     1  \n",
       "8852            8     1  \n",
       "\n",
       "[34741 rows x 7 columns]"
      ]
     },
     "execution_count": 46,
     "metadata": {},
     "output_type": "execute_result"
    }
   ],
   "source": [
    "df_test=pd.concat([y_test,x_test],axis=1)\n",
    "df_test['pred']=y_pred\n",
    "df_test"
   ]
  },
  {
   "cell_type": "code",
   "execution_count": 47,
   "id": "0ffaf142",
   "metadata": {},
   "outputs": [],
   "source": [
    "df_test['Aprv_Decision']=np.where(df_test['FICOScore']>=670,1,0)\n",
    "df_test['Aprv_Decision']=np.where(df_test['InquiryNum']<=2,df_test['Aprv_Decision'],0)\n",
    "df_test['Aprv_Decision']=np.where(df_test['BaseRatingBin']<=6,df_test['Aprv_Decision'],0)\n",
    "df_test['Aprv_Decision']=np.where(df_test['pred']==1,1,df_test['Aprv_Decision'])"
   ]
  },
  {
   "cell_type": "code",
   "execution_count": 48,
   "id": "c2678934",
   "metadata": {},
   "outputs": [
    {
     "data": {
      "text/html": [
       "<div>\n",
       "<style scoped>\n",
       "    .dataframe tbody tr th:only-of-type {\n",
       "        vertical-align: middle;\n",
       "    }\n",
       "\n",
       "    .dataframe tbody tr th {\n",
       "        vertical-align: top;\n",
       "    }\n",
       "\n",
       "    .dataframe thead th {\n",
       "        text-align: right;\n",
       "    }\n",
       "</style>\n",
       "<table border=\"1\" class=\"dataframe\">\n",
       "  <thead>\n",
       "    <tr style=\"text-align: right;\">\n",
       "      <th></th>\n",
       "      <th>isApproval</th>\n",
       "      <th>FICOScore</th>\n",
       "      <th>RequestedAmount</th>\n",
       "      <th>InquiryNum</th>\n",
       "      <th>BaseRatingBin</th>\n",
       "      <th>channelBin</th>\n",
       "      <th>pred</th>\n",
       "      <th>Aprv_Decision</th>\n",
       "    </tr>\n",
       "  </thead>\n",
       "  <tbody>\n",
       "    <tr>\n",
       "      <th>1948</th>\n",
       "      <td>0</td>\n",
       "      <td>583.0</td>\n",
       "      <td>2500.0</td>\n",
       "      <td>0.0</td>\n",
       "      <td>8.0</td>\n",
       "      <td>1</td>\n",
       "      <td>0</td>\n",
       "      <td>0</td>\n",
       "    </tr>\n",
       "    <tr>\n",
       "      <th>19522</th>\n",
       "      <td>1</td>\n",
       "      <td>766.0</td>\n",
       "      <td>12000.0</td>\n",
       "      <td>3.0</td>\n",
       "      <td>2.0</td>\n",
       "      <td>8</td>\n",
       "      <td>1</td>\n",
       "      <td>1</td>\n",
       "    </tr>\n",
       "    <tr>\n",
       "      <th>62699</th>\n",
       "      <td>1</td>\n",
       "      <td>730.0</td>\n",
       "      <td>2000.0</td>\n",
       "      <td>3.0</td>\n",
       "      <td>3.0</td>\n",
       "      <td>4</td>\n",
       "      <td>1</td>\n",
       "      <td>1</td>\n",
       "    </tr>\n",
       "    <tr>\n",
       "      <th>6702</th>\n",
       "      <td>1</td>\n",
       "      <td>627.0</td>\n",
       "      <td>18000.0</td>\n",
       "      <td>0.0</td>\n",
       "      <td>6.0</td>\n",
       "      <td>1</td>\n",
       "      <td>0</td>\n",
       "      <td>0</td>\n",
       "    </tr>\n",
       "    <tr>\n",
       "      <th>47061</th>\n",
       "      <td>1</td>\n",
       "      <td>684.0</td>\n",
       "      <td>7000.0</td>\n",
       "      <td>0.0</td>\n",
       "      <td>5.0</td>\n",
       "      <td>1</td>\n",
       "      <td>1</td>\n",
       "      <td>1</td>\n",
       "    </tr>\n",
       "    <tr>\n",
       "      <th>...</th>\n",
       "      <td>...</td>\n",
       "      <td>...</td>\n",
       "      <td>...</td>\n",
       "      <td>...</td>\n",
       "      <td>...</td>\n",
       "      <td>...</td>\n",
       "      <td>...</td>\n",
       "      <td>...</td>\n",
       "    </tr>\n",
       "    <tr>\n",
       "      <th>2954</th>\n",
       "      <td>0</td>\n",
       "      <td>602.0</td>\n",
       "      <td>19000.0</td>\n",
       "      <td>1.0</td>\n",
       "      <td>7.0</td>\n",
       "      <td>1</td>\n",
       "      <td>0</td>\n",
       "      <td>0</td>\n",
       "    </tr>\n",
       "    <tr>\n",
       "      <th>76799</th>\n",
       "      <td>0</td>\n",
       "      <td>793.0</td>\n",
       "      <td>30000.0</td>\n",
       "      <td>0.0</td>\n",
       "      <td>1.0</td>\n",
       "      <td>8</td>\n",
       "      <td>1</td>\n",
       "      <td>1</td>\n",
       "    </tr>\n",
       "    <tr>\n",
       "      <th>76306</th>\n",
       "      <td>1</td>\n",
       "      <td>705.0</td>\n",
       "      <td>15000.0</td>\n",
       "      <td>0.0</td>\n",
       "      <td>4.0</td>\n",
       "      <td>1</td>\n",
       "      <td>1</td>\n",
       "      <td>1</td>\n",
       "    </tr>\n",
       "    <tr>\n",
       "      <th>30583</th>\n",
       "      <td>1</td>\n",
       "      <td>666.0</td>\n",
       "      <td>40000.0</td>\n",
       "      <td>3.0</td>\n",
       "      <td>5.0</td>\n",
       "      <td>6</td>\n",
       "      <td>1</td>\n",
       "      <td>1</td>\n",
       "    </tr>\n",
       "    <tr>\n",
       "      <th>8852</th>\n",
       "      <td>1</td>\n",
       "      <td>747.0</td>\n",
       "      <td>40000.0</td>\n",
       "      <td>0.0</td>\n",
       "      <td>3.0</td>\n",
       "      <td>8</td>\n",
       "      <td>1</td>\n",
       "      <td>1</td>\n",
       "    </tr>\n",
       "  </tbody>\n",
       "</table>\n",
       "<p>34741 rows × 8 columns</p>\n",
       "</div>"
      ],
      "text/plain": [
       "       isApproval  FICOScore  RequestedAmount  InquiryNum  BaseRatingBin  \\\n",
       "1948            0      583.0           2500.0         0.0            8.0   \n",
       "19522           1      766.0          12000.0         3.0            2.0   \n",
       "62699           1      730.0           2000.0         3.0            3.0   \n",
       "6702            1      627.0          18000.0         0.0            6.0   \n",
       "47061           1      684.0           7000.0         0.0            5.0   \n",
       "...           ...        ...              ...         ...            ...   \n",
       "2954            0      602.0          19000.0         1.0            7.0   \n",
       "76799           0      793.0          30000.0         0.0            1.0   \n",
       "76306           1      705.0          15000.0         0.0            4.0   \n",
       "30583           1      666.0          40000.0         3.0            5.0   \n",
       "8852            1      747.0          40000.0         0.0            3.0   \n",
       "\n",
       "       channelBin  pred  Aprv_Decision  \n",
       "1948            1     0              0  \n",
       "19522           8     1              1  \n",
       "62699           4     1              1  \n",
       "6702            1     0              0  \n",
       "47061           1     1              1  \n",
       "...           ...   ...            ...  \n",
       "2954            1     0              0  \n",
       "76799           8     1              1  \n",
       "76306           1     1              1  \n",
       "30583           6     1              1  \n",
       "8852            8     1              1  \n",
       "\n",
       "[34741 rows x 8 columns]"
      ]
     },
     "execution_count": 48,
     "metadata": {},
     "output_type": "execute_result"
    }
   ],
   "source": [
    "df_test"
   ]
  },
  {
   "cell_type": "code",
   "execution_count": 49,
   "id": "82114a41",
   "metadata": {},
   "outputs": [
    {
     "data": {
      "text/plain": [
       "(15742, 2695, 1159, 15145)"
      ]
     },
     "execution_count": 49,
     "metadata": {},
     "output_type": "execute_result"
    }
   ],
   "source": [
    "tn, fp, fn, tp = metrics.confusion_matrix(df_test['isApproval'], df_test['Aprv_Decision']).ravel()\n",
    "(tn, fp, fn, tp)"
   ]
  },
  {
   "cell_type": "code",
   "execution_count": 50,
   "id": "f278d7bd",
   "metadata": {},
   "outputs": [
    {
     "data": {
      "text/plain": [
       "0.8890647937595348"
      ]
     },
     "execution_count": 50,
     "metadata": {},
     "output_type": "execute_result"
    }
   ],
   "source": [
    "accuracy=(tp+tn)/len(df_test)\n",
    "accuracy"
   ]
  },
  {
   "cell_type": "code",
   "execution_count": 51,
   "id": "21d16230",
   "metadata": {},
   "outputs": [
    {
     "data": {
      "text/plain": [
       "0.8489349775784754"
      ]
     },
     "execution_count": 51,
     "metadata": {},
     "output_type": "execute_result"
    }
   ],
   "source": [
    "precision=tp/(tp+fp)\n",
    "precision"
   ]
  },
  {
   "cell_type": "code",
   "execution_count": 52,
   "id": "4886516b",
   "metadata": {},
   "outputs": [
    {
     "data": {
      "text/plain": [
       "0.9289131501472031"
      ]
     },
     "execution_count": 52,
     "metadata": {},
     "output_type": "execute_result"
    }
   ],
   "source": [
    "recall=tp/(tp+fn)\n",
    "recall"
   ]
  },
  {
   "cell_type": "markdown",
   "id": "3a3d9f1a",
   "metadata": {},
   "source": [
    "If there is more data,this combined method can work better, because it overcomes the overfitting problem in machine learning models and the underfitting problem in traditional rules.And again, the ruleset should include much more rules instead of just 1 or 2 rules."
   ]
  }
 ],
 "metadata": {
  "kernelspec": {
   "display_name": "Python 3",
   "language": "python",
   "name": "python3"
  },
  "language_info": {
   "codemirror_mode": {
    "name": "ipython",
    "version": 3
   },
   "file_extension": ".py",
   "mimetype": "text/x-python",
   "name": "python",
   "nbconvert_exporter": "python",
   "pygments_lexer": "ipython3",
   "version": "3.8.8"
  }
 },
 "nbformat": 4,
 "nbformat_minor": 5
}
