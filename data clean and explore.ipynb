{
 "cells": [
  {
   "cell_type": "code",
   "execution_count": 1,
   "id": "ee16e46a",
   "metadata": {},
   "outputs": [],
   "source": [
    "import numpy as np\n",
    "import pandas as pd"
   ]
  },
  {
   "cell_type": "code",
   "execution_count": 2,
   "id": "bdb91122",
   "metadata": {},
   "outputs": [],
   "source": [
    "data=pd.read_csv('Credit Manager_Take_Home_Data.csv')"
   ]
  },
  {
   "cell_type": "code",
   "execution_count": 3,
   "id": "e0272a85",
   "metadata": {
    "scrolled": false
   },
   "outputs": [
    {
     "data": {
      "text/html": [
       "<div>\n",
       "<style scoped>\n",
       "    .dataframe tbody tr th:only-of-type {\n",
       "        vertical-align: middle;\n",
       "    }\n",
       "\n",
       "    .dataframe tbody tr th {\n",
       "        vertical-align: top;\n",
       "    }\n",
       "\n",
       "    .dataframe thead th {\n",
       "        text-align: right;\n",
       "    }\n",
       "</style>\n",
       "<table border=\"1\" class=\"dataframe\">\n",
       "  <thead>\n",
       "    <tr style=\"text-align: right;\">\n",
       "      <th></th>\n",
       "      <th>SignalDateTime</th>\n",
       "      <th>isApplication</th>\n",
       "      <th>isApproval</th>\n",
       "      <th>isAcceptance</th>\n",
       "      <th>isCompletion</th>\n",
       "      <th>FICOScore</th>\n",
       "      <th>RequestedAmount</th>\n",
       "      <th>InquiryNum</th>\n",
       "      <th>BaseRatingBin</th>\n",
       "      <th>channelBin</th>\n",
       "    </tr>\n",
       "  </thead>\n",
       "  <tbody>\n",
       "    <tr>\n",
       "      <th>0</th>\n",
       "      <td>3/15/20 21:15</td>\n",
       "      <td>1</td>\n",
       "      <td>1</td>\n",
       "      <td>0</td>\n",
       "      <td>0</td>\n",
       "      <td>651.0</td>\n",
       "      <td>10000.0</td>\n",
       "      <td>-4.0</td>\n",
       "      <td>5.0</td>\n",
       "      <td>1</td>\n",
       "    </tr>\n",
       "    <tr>\n",
       "      <th>1</th>\n",
       "      <td>3/15/20 22:57</td>\n",
       "      <td>1</td>\n",
       "      <td>1</td>\n",
       "      <td>0</td>\n",
       "      <td>0</td>\n",
       "      <td>735.0</td>\n",
       "      <td>10000.0</td>\n",
       "      <td>1.0</td>\n",
       "      <td>7.0</td>\n",
       "      <td>1</td>\n",
       "    </tr>\n",
       "    <tr>\n",
       "      <th>2</th>\n",
       "      <td>3/15/20 22:06</td>\n",
       "      <td>1</td>\n",
       "      <td>1</td>\n",
       "      <td>0</td>\n",
       "      <td>0</td>\n",
       "      <td>699.0</td>\n",
       "      <td>13000.0</td>\n",
       "      <td>0.0</td>\n",
       "      <td>6.0</td>\n",
       "      <td>1</td>\n",
       "    </tr>\n",
       "    <tr>\n",
       "      <th>3</th>\n",
       "      <td>3/16/20 4:34</td>\n",
       "      <td>1</td>\n",
       "      <td>1</td>\n",
       "      <td>0</td>\n",
       "      <td>0</td>\n",
       "      <td>731.0</td>\n",
       "      <td>40000.0</td>\n",
       "      <td>0.0</td>\n",
       "      <td>2.0</td>\n",
       "      <td>8</td>\n",
       "    </tr>\n",
       "    <tr>\n",
       "      <th>4</th>\n",
       "      <td>3/16/20 7:02</td>\n",
       "      <td>1</td>\n",
       "      <td>0</td>\n",
       "      <td>0</td>\n",
       "      <td>0</td>\n",
       "      <td>556.0</td>\n",
       "      <td>10000.0</td>\n",
       "      <td>1.0</td>\n",
       "      <td>8.0</td>\n",
       "      <td>8</td>\n",
       "    </tr>\n",
       "    <tr>\n",
       "      <th>...</th>\n",
       "      <td>...</td>\n",
       "      <td>...</td>\n",
       "      <td>...</td>\n",
       "      <td>...</td>\n",
       "      <td>...</td>\n",
       "      <td>...</td>\n",
       "      <td>...</td>\n",
       "      <td>...</td>\n",
       "      <td>...</td>\n",
       "      <td>...</td>\n",
       "    </tr>\n",
       "    <tr>\n",
       "      <th>79270</th>\n",
       "      <td>3/26/20 5:43</td>\n",
       "      <td>1</td>\n",
       "      <td>0</td>\n",
       "      <td>0</td>\n",
       "      <td>0</td>\n",
       "      <td>NaN</td>\n",
       "      <td>NaN</td>\n",
       "      <td>NaN</td>\n",
       "      <td>NaN</td>\n",
       "      <td>4</td>\n",
       "    </tr>\n",
       "    <tr>\n",
       "      <th>79271</th>\n",
       "      <td>5/27/20 9:29</td>\n",
       "      <td>1</td>\n",
       "      <td>0</td>\n",
       "      <td>0</td>\n",
       "      <td>0</td>\n",
       "      <td>NaN</td>\n",
       "      <td>NaN</td>\n",
       "      <td>NaN</td>\n",
       "      <td>NaN</td>\n",
       "      <td>4</td>\n",
       "    </tr>\n",
       "    <tr>\n",
       "      <th>79272</th>\n",
       "      <td>3/27/20 9:35</td>\n",
       "      <td>1</td>\n",
       "      <td>0</td>\n",
       "      <td>0</td>\n",
       "      <td>0</td>\n",
       "      <td>NaN</td>\n",
       "      <td>NaN</td>\n",
       "      <td>NaN</td>\n",
       "      <td>NaN</td>\n",
       "      <td>4</td>\n",
       "    </tr>\n",
       "    <tr>\n",
       "      <th>79273</th>\n",
       "      <td>5/22/20 9:11</td>\n",
       "      <td>1</td>\n",
       "      <td>0</td>\n",
       "      <td>0</td>\n",
       "      <td>0</td>\n",
       "      <td>NaN</td>\n",
       "      <td>NaN</td>\n",
       "      <td>NaN</td>\n",
       "      <td>NaN</td>\n",
       "      <td>4</td>\n",
       "    </tr>\n",
       "    <tr>\n",
       "      <th>79274</th>\n",
       "      <td>5/1/20 14:20</td>\n",
       "      <td>1</td>\n",
       "      <td>0</td>\n",
       "      <td>0</td>\n",
       "      <td>0</td>\n",
       "      <td>NaN</td>\n",
       "      <td>NaN</td>\n",
       "      <td>NaN</td>\n",
       "      <td>NaN</td>\n",
       "      <td>4</td>\n",
       "    </tr>\n",
       "  </tbody>\n",
       "</table>\n",
       "<p>79275 rows × 10 columns</p>\n",
       "</div>"
      ],
      "text/plain": [
       "      SignalDateTime  isApplication  isApproval  isAcceptance  isCompletion  \\\n",
       "0      3/15/20 21:15              1           1             0             0   \n",
       "1      3/15/20 22:57              1           1             0             0   \n",
       "2      3/15/20 22:06              1           1             0             0   \n",
       "3       3/16/20 4:34              1           1             0             0   \n",
       "4       3/16/20 7:02              1           0             0             0   \n",
       "...              ...            ...         ...           ...           ...   \n",
       "79270   3/26/20 5:43              1           0             0             0   \n",
       "79271   5/27/20 9:29              1           0             0             0   \n",
       "79272   3/27/20 9:35              1           0             0             0   \n",
       "79273   5/22/20 9:11              1           0             0             0   \n",
       "79274   5/1/20 14:20              1           0             0             0   \n",
       "\n",
       "       FICOScore  RequestedAmount  InquiryNum  BaseRatingBin  channelBin  \n",
       "0          651.0          10000.0        -4.0            5.0           1  \n",
       "1          735.0          10000.0         1.0            7.0           1  \n",
       "2          699.0          13000.0         0.0            6.0           1  \n",
       "3          731.0          40000.0         0.0            2.0           8  \n",
       "4          556.0          10000.0         1.0            8.0           8  \n",
       "...          ...              ...         ...            ...         ...  \n",
       "79270        NaN              NaN         NaN            NaN           4  \n",
       "79271        NaN              NaN         NaN            NaN           4  \n",
       "79272        NaN              NaN         NaN            NaN           4  \n",
       "79273        NaN              NaN         NaN            NaN           4  \n",
       "79274        NaN              NaN         NaN            NaN           4  \n",
       "\n",
       "[79275 rows x 10 columns]"
      ]
     },
     "execution_count": 3,
     "metadata": {},
     "output_type": "execute_result"
    }
   ],
   "source": [
    "data"
   ]
  },
  {
   "cell_type": "code",
   "execution_count": 4,
   "id": "4dd3cb08",
   "metadata": {},
   "outputs": [
    {
     "name": "stdout",
     "output_type": "stream",
     "text": [
      "<class 'pandas.core.frame.DataFrame'>\n",
      "RangeIndex: 79275 entries, 0 to 79274\n",
      "Data columns (total 10 columns):\n",
      " #   Column           Non-Null Count  Dtype  \n",
      "---  ------           --------------  -----  \n",
      " 0   SignalDateTime   79275 non-null  object \n",
      " 1   isApplication    79275 non-null  int64  \n",
      " 2   isApproval       79275 non-null  int64  \n",
      " 3   isAcceptance     79275 non-null  int64  \n",
      " 4   isCompletion     79275 non-null  int64  \n",
      " 5   FICOScore        72827 non-null  float64\n",
      " 6   RequestedAmount  72832 non-null  float64\n",
      " 7   InquiryNum       72825 non-null  float64\n",
      " 8   BaseRatingBin    69484 non-null  float64\n",
      " 9   channelBin       79275 non-null  int64  \n",
      "dtypes: float64(4), int64(5), object(1)\n",
      "memory usage: 6.0+ MB\n"
     ]
    }
   ],
   "source": [
    "data.info()"
   ]
  },
  {
   "cell_type": "code",
   "execution_count": 5,
   "id": "2afaaea7",
   "metadata": {},
   "outputs": [],
   "source": [
    "data=data.drop_duplicates()"
   ]
  },
  {
   "cell_type": "code",
   "execution_count": 6,
   "id": "b5d55e75",
   "metadata": {},
   "outputs": [
    {
     "name": "stderr",
     "output_type": "stream",
     "text": [
      "<ipython-input-6-f5d27d2a49f3>:1: SettingWithCopyWarning: \n",
      "A value is trying to be set on a copy of a slice from a DataFrame.\n",
      "Try using .loc[row_indexer,col_indexer] = value instead\n",
      "\n",
      "See the caveats in the documentation: https://pandas.pydata.org/pandas-docs/stable/user_guide/indexing.html#returning-a-view-versus-a-copy\n",
      "  data['SignalDateTime']=pd.to_datetime(data['SignalDateTime'])\n"
     ]
    }
   ],
   "source": [
    "data['SignalDateTime']=pd.to_datetime(data['SignalDateTime'])"
   ]
  },
  {
   "cell_type": "code",
   "execution_count": 7,
   "id": "78676ef7",
   "metadata": {},
   "outputs": [],
   "source": [
    "data=data.sort_values(by='SignalDateTime',ignore_index=True)"
   ]
  },
  {
   "cell_type": "code",
   "execution_count": 8,
   "id": "66eae141",
   "metadata": {
    "scrolled": true
   },
   "outputs": [
    {
     "data": {
      "text/html": [
       "<div>\n",
       "<style scoped>\n",
       "    .dataframe tbody tr th:only-of-type {\n",
       "        vertical-align: middle;\n",
       "    }\n",
       "\n",
       "    .dataframe tbody tr th {\n",
       "        vertical-align: top;\n",
       "    }\n",
       "\n",
       "    .dataframe thead th {\n",
       "        text-align: right;\n",
       "    }\n",
       "</style>\n",
       "<table border=\"1\" class=\"dataframe\">\n",
       "  <thead>\n",
       "    <tr style=\"text-align: right;\">\n",
       "      <th></th>\n",
       "      <th>SignalDateTime</th>\n",
       "      <th>isApplication</th>\n",
       "      <th>isApproval</th>\n",
       "      <th>isAcceptance</th>\n",
       "      <th>isCompletion</th>\n",
       "      <th>FICOScore</th>\n",
       "      <th>RequestedAmount</th>\n",
       "      <th>InquiryNum</th>\n",
       "      <th>BaseRatingBin</th>\n",
       "      <th>channelBin</th>\n",
       "    </tr>\n",
       "  </thead>\n",
       "  <tbody>\n",
       "    <tr>\n",
       "      <th>0</th>\n",
       "      <td>2020-03-01 00:08:00</td>\n",
       "      <td>1</td>\n",
       "      <td>1</td>\n",
       "      <td>0</td>\n",
       "      <td>0</td>\n",
       "      <td>714.0</td>\n",
       "      <td>11000.0</td>\n",
       "      <td>0.0</td>\n",
       "      <td>6.0</td>\n",
       "      <td>1</td>\n",
       "    </tr>\n",
       "    <tr>\n",
       "      <th>1</th>\n",
       "      <td>2020-03-01 00:19:00</td>\n",
       "      <td>1</td>\n",
       "      <td>0</td>\n",
       "      <td>0</td>\n",
       "      <td>0</td>\n",
       "      <td>665.0</td>\n",
       "      <td>16000.0</td>\n",
       "      <td>0.0</td>\n",
       "      <td>7.0</td>\n",
       "      <td>1</td>\n",
       "    </tr>\n",
       "    <tr>\n",
       "      <th>2</th>\n",
       "      <td>2020-03-01 00:19:00</td>\n",
       "      <td>1</td>\n",
       "      <td>0</td>\n",
       "      <td>0</td>\n",
       "      <td>0</td>\n",
       "      <td>553.0</td>\n",
       "      <td>3000.0</td>\n",
       "      <td>1.0</td>\n",
       "      <td>8.0</td>\n",
       "      <td>8</td>\n",
       "    </tr>\n",
       "    <tr>\n",
       "      <th>3</th>\n",
       "      <td>2020-03-01 00:31:00</td>\n",
       "      <td>1</td>\n",
       "      <td>1</td>\n",
       "      <td>0</td>\n",
       "      <td>0</td>\n",
       "      <td>738.0</td>\n",
       "      <td>8000.0</td>\n",
       "      <td>0.0</td>\n",
       "      <td>3.0</td>\n",
       "      <td>1</td>\n",
       "    </tr>\n",
       "    <tr>\n",
       "      <th>4</th>\n",
       "      <td>2020-03-01 00:42:00</td>\n",
       "      <td>1</td>\n",
       "      <td>1</td>\n",
       "      <td>0</td>\n",
       "      <td>0</td>\n",
       "      <td>710.0</td>\n",
       "      <td>13500.0</td>\n",
       "      <td>-4.0</td>\n",
       "      <td>4.0</td>\n",
       "      <td>1</td>\n",
       "    </tr>\n",
       "    <tr>\n",
       "      <th>...</th>\n",
       "      <td>...</td>\n",
       "      <td>...</td>\n",
       "      <td>...</td>\n",
       "      <td>...</td>\n",
       "      <td>...</td>\n",
       "      <td>...</td>\n",
       "      <td>...</td>\n",
       "      <td>...</td>\n",
       "      <td>...</td>\n",
       "      <td>...</td>\n",
       "    </tr>\n",
       "    <tr>\n",
       "      <th>79183</th>\n",
       "      <td>2020-05-30 23:23:00</td>\n",
       "      <td>1</td>\n",
       "      <td>0</td>\n",
       "      <td>0</td>\n",
       "      <td>0</td>\n",
       "      <td>NaN</td>\n",
       "      <td>NaN</td>\n",
       "      <td>NaN</td>\n",
       "      <td>NaN</td>\n",
       "      <td>1</td>\n",
       "    </tr>\n",
       "    <tr>\n",
       "      <th>79184</th>\n",
       "      <td>2020-05-30 23:44:00</td>\n",
       "      <td>1</td>\n",
       "      <td>0</td>\n",
       "      <td>0</td>\n",
       "      <td>0</td>\n",
       "      <td>696.0</td>\n",
       "      <td>3000.0</td>\n",
       "      <td>8.0</td>\n",
       "      <td>8.0</td>\n",
       "      <td>8</td>\n",
       "    </tr>\n",
       "    <tr>\n",
       "      <th>79185</th>\n",
       "      <td>2020-05-30 23:45:00</td>\n",
       "      <td>1</td>\n",
       "      <td>0</td>\n",
       "      <td>0</td>\n",
       "      <td>0</td>\n",
       "      <td>701.0</td>\n",
       "      <td>28000.0</td>\n",
       "      <td>-4.0</td>\n",
       "      <td>8.0</td>\n",
       "      <td>1</td>\n",
       "    </tr>\n",
       "    <tr>\n",
       "      <th>79186</th>\n",
       "      <td>2020-05-30 23:47:00</td>\n",
       "      <td>1</td>\n",
       "      <td>1</td>\n",
       "      <td>0</td>\n",
       "      <td>0</td>\n",
       "      <td>685.0</td>\n",
       "      <td>13200.0</td>\n",
       "      <td>0.0</td>\n",
       "      <td>4.0</td>\n",
       "      <td>1</td>\n",
       "    </tr>\n",
       "    <tr>\n",
       "      <th>79187</th>\n",
       "      <td>2020-05-30 23:53:00</td>\n",
       "      <td>1</td>\n",
       "      <td>0</td>\n",
       "      <td>0</td>\n",
       "      <td>0</td>\n",
       "      <td>668.0</td>\n",
       "      <td>10000.0</td>\n",
       "      <td>0.0</td>\n",
       "      <td>8.0</td>\n",
       "      <td>1</td>\n",
       "    </tr>\n",
       "  </tbody>\n",
       "</table>\n",
       "<p>79188 rows × 10 columns</p>\n",
       "</div>"
      ],
      "text/plain": [
       "           SignalDateTime  isApplication  isApproval  isAcceptance  \\\n",
       "0     2020-03-01 00:08:00              1           1             0   \n",
       "1     2020-03-01 00:19:00              1           0             0   \n",
       "2     2020-03-01 00:19:00              1           0             0   \n",
       "3     2020-03-01 00:31:00              1           1             0   \n",
       "4     2020-03-01 00:42:00              1           1             0   \n",
       "...                   ...            ...         ...           ...   \n",
       "79183 2020-05-30 23:23:00              1           0             0   \n",
       "79184 2020-05-30 23:44:00              1           0             0   \n",
       "79185 2020-05-30 23:45:00              1           0             0   \n",
       "79186 2020-05-30 23:47:00              1           1             0   \n",
       "79187 2020-05-30 23:53:00              1           0             0   \n",
       "\n",
       "       isCompletion  FICOScore  RequestedAmount  InquiryNum  BaseRatingBin  \\\n",
       "0                 0      714.0          11000.0         0.0            6.0   \n",
       "1                 0      665.0          16000.0         0.0            7.0   \n",
       "2                 0      553.0           3000.0         1.0            8.0   \n",
       "3                 0      738.0           8000.0         0.0            3.0   \n",
       "4                 0      710.0          13500.0        -4.0            4.0   \n",
       "...             ...        ...              ...         ...            ...   \n",
       "79183             0        NaN              NaN         NaN            NaN   \n",
       "79184             0      696.0           3000.0         8.0            8.0   \n",
       "79185             0      701.0          28000.0        -4.0            8.0   \n",
       "79186             0      685.0          13200.0         0.0            4.0   \n",
       "79187             0      668.0          10000.0         0.0            8.0   \n",
       "\n",
       "       channelBin  \n",
       "0               1  \n",
       "1               1  \n",
       "2               8  \n",
       "3               1  \n",
       "4               1  \n",
       "...           ...  \n",
       "79183           1  \n",
       "79184           8  \n",
       "79185           1  \n",
       "79186           1  \n",
       "79187           1  \n",
       "\n",
       "[79188 rows x 10 columns]"
      ]
     },
     "execution_count": 8,
     "metadata": {},
     "output_type": "execute_result"
    }
   ],
   "source": [
    "data"
   ]
  },
  {
   "cell_type": "code",
   "execution_count": 9,
   "id": "ba6e2699",
   "metadata": {},
   "outputs": [
    {
     "name": "stdout",
     "output_type": "stream",
     "text": [
      "<class 'pandas.core.frame.DataFrame'>\n",
      "RangeIndex: 79188 entries, 0 to 79187\n",
      "Data columns (total 10 columns):\n",
      " #   Column           Non-Null Count  Dtype         \n",
      "---  ------           --------------  -----         \n",
      " 0   SignalDateTime   79188 non-null  datetime64[ns]\n",
      " 1   isApplication    79188 non-null  int64         \n",
      " 2   isApproval       79188 non-null  int64         \n",
      " 3   isAcceptance     79188 non-null  int64         \n",
      " 4   isCompletion     79188 non-null  int64         \n",
      " 5   FICOScore        72826 non-null  float64       \n",
      " 6   RequestedAmount  72831 non-null  float64       \n",
      " 7   InquiryNum       72824 non-null  float64       \n",
      " 8   BaseRatingBin    69483 non-null  float64       \n",
      " 9   channelBin       79188 non-null  int64         \n",
      "dtypes: datetime64[ns](1), float64(4), int64(5)\n",
      "memory usage: 6.0 MB\n"
     ]
    }
   ],
   "source": [
    "data.info()"
   ]
  },
  {
   "cell_type": "code",
   "execution_count": 10,
   "id": "a2d962aa",
   "metadata": {},
   "outputs": [
    {
     "data": {
      "text/plain": [
       "1    79188\n",
       "Name: isApplication, dtype: int64"
      ]
     },
     "execution_count": 10,
     "metadata": {},
     "output_type": "execute_result"
    }
   ],
   "source": [
    "data['isApplication'].value_counts()"
   ]
  },
  {
   "cell_type": "code",
   "execution_count": 11,
   "id": "2a1ba73d",
   "metadata": {},
   "outputs": [
    {
     "data": {
      "text/plain": [
       "0    45687\n",
       "1    33501\n",
       "Name: isApproval, dtype: int64"
      ]
     },
     "execution_count": 11,
     "metadata": {},
     "output_type": "execute_result"
    }
   ],
   "source": [
    "data['isApproval'].value_counts()"
   ]
  },
  {
   "cell_type": "code",
   "execution_count": 12,
   "id": "99758479",
   "metadata": {},
   "outputs": [
    {
     "data": {
      "text/plain": [
       "0    77240\n",
       "1     1948\n",
       "Name: isAcceptance, dtype: int64"
      ]
     },
     "execution_count": 12,
     "metadata": {},
     "output_type": "execute_result"
    }
   ],
   "source": [
    "data['isAcceptance'].value_counts()"
   ]
  },
  {
   "cell_type": "code",
   "execution_count": 13,
   "id": "032b2e12",
   "metadata": {},
   "outputs": [
    {
     "data": {
      "text/plain": [
       "0    78069\n",
       "1     1119\n",
       "Name: isCompletion, dtype: int64"
      ]
     },
     "execution_count": 13,
     "metadata": {},
     "output_type": "execute_result"
    }
   ],
   "source": [
    "data['isCompletion'].value_counts()"
   ]
  },
  {
   "cell_type": "code",
   "execution_count": 14,
   "id": "ec0623f3",
   "metadata": {},
   "outputs": [
    {
     "data": {
      "text/plain": [
       "<AxesSubplot:ylabel='Frequency'>"
      ]
     },
     "execution_count": 14,
     "metadata": {},
     "output_type": "execute_result"
    },
    {
     "data": {
      "image/png": "[encoded data removed]",
      "text/plain": [
       "<Figure size 432x288 with 1 Axes>"
      ]
     },
     "metadata": {
      "needs_background": "light"
     },
     "output_type": "display_data"
    }
   ],
   "source": [
    "data['FICOScore'].plot.hist()"
   ]
  },
  {
   "cell_type": "code",
   "execution_count": 15,
   "id": "cbfcf881",
   "metadata": {},
   "outputs": [
    {
     "data": {
      "text/plain": [
       "<AxesSubplot:ylabel='Frequency'>"
      ]
     },
     "execution_count": 15,
     "metadata": {},
     "output_type": "execute_result"
    },
    {
     "data": {
      "image/png": "[encoded data removed]",
      "text/plain": [
       "<Figure size 432x288 with 1 Axes>"
      ]
     },
     "metadata": {
      "needs_background": "light"
     },
     "output_type": "display_data"
    }
   ],
   "source": [
    "data['RequestedAmount'].plot.hist()"
   ]
  },
  {
   "cell_type": "code",
   "execution_count": 16,
   "id": "5edf505a",
   "metadata": {},
   "outputs": [
    {
     "data": {
      "text/plain": [
       " 0.0     22610\n",
       " 1.0     20769\n",
       " 2.0     10921\n",
       "-4.0      7335\n",
       " 3.0      5256\n",
       " 4.0      2665\n",
       " 5.0      1171\n",
       " 6.0       729\n",
       " 7.0       428\n",
       " 8.0       334\n",
       " 9.0       184\n",
       " 10.0      128\n",
       " 11.0       70\n",
       " 12.0       63\n",
       " 14.0       35\n",
       " 13.0       28\n",
       " 15.0       26\n",
       " 16.0       14\n",
       " 17.0       12\n",
       " 18.0       11\n",
       " 21.0        7\n",
       " 19.0        7\n",
       " 23.0        4\n",
       " 20.0        4\n",
       " 24.0        2\n",
       " 22.0        2\n",
       " 33.0        2\n",
       " 30.0        2\n",
       " 60.0        1\n",
       " 65.0        1\n",
       " 34.0        1\n",
       " 44.0        1\n",
       " 32.0        1\n",
       "Name: InquiryNum, dtype: int64"
      ]
     },
     "execution_count": 16,
     "metadata": {},
     "output_type": "execute_result"
    }
   ],
   "source": [
    "data['InquiryNum'].value_counts()"
   ]
  },
  {
   "cell_type": "code",
   "execution_count": 17,
   "id": "3d6efb5d",
   "metadata": {},
   "outputs": [
    {
     "data": {
      "text/plain": [
       "8.0    16534\n",
       "7.0    11562\n",
       "6.0     8964\n",
       "3.0     7514\n",
       "1.0     6974\n",
       "4.0     6794\n",
       "2.0     6349\n",
       "5.0     4792\n",
       "Name: BaseRatingBin, dtype: int64"
      ]
     },
     "execution_count": 17,
     "metadata": {},
     "output_type": "execute_result"
    }
   ],
   "source": [
    "data['BaseRatingBin'].value_counts()"
   ]
  },
  {
   "cell_type": "code",
   "execution_count": 18,
   "id": "f04f607b",
   "metadata": {},
   "outputs": [
    {
     "data": {
      "text/plain": [
       "1    48538\n",
       "8    18409\n",
       "6     5529\n",
       "4     3035\n",
       "5     2153\n",
       "3      937\n",
       "2      450\n",
       "7      137\n",
       "Name: channelBin, dtype: int64"
      ]
     },
     "execution_count": 18,
     "metadata": {},
     "output_type": "execute_result"
    }
   ],
   "source": [
    "data['channelBin'].value_counts()"
   ]
  },
  {
   "cell_type": "code",
   "execution_count": 19,
   "id": "be648d28",
   "metadata": {},
   "outputs": [],
   "source": [
    "data.to_csv('Credit_Manager_Take_Home_Data_Clean.csv',index=False)"
   ]
  }
 ],
 "metadata": {
  "kernelspec": {
   "display_name": "Python 3",
   "language": "python",
   "name": "python3"
  },
  "language_info": {
   "codemirror_mode": {
    "name": "ipython",
    "version": 3
   },
   "file_extension": ".py",
   "mimetype": "text/x-python",
   "name": "python",
   "nbconvert_exporter": "python",
   "pygments_lexer": "ipython3",
   "version": "3.8.8"
  }
 },
 "nbformat": 4,
 "nbformat_minor": 5
}
